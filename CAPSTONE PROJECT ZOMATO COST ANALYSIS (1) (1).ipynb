{
 "cells": [
  {
   "cell_type": "code",
   "execution_count": 1,
   "metadata": {},
   "outputs": [],
   "source": [
    "#Importing Libraries\n",
    "import numpy as np\n",
    "import pandas as pd\n",
    "import matplotlib.pyplot as plt\n",
    "import seaborn as sns\n",
    "import warnings\n",
    "warnings.filterwarnings(\"ignore\")\n",
    "pd.set_option(\"display.float_format\",lambda x : \"%.2f\" %x)"
   ]
  },
  {
   "cell_type": "markdown",
   "metadata": {},
   "source": [
    "# STEP-1 Reading the dataset"
   ]
  },
  {
   "cell_type": "code",
   "execution_count": null,
   "metadata": {},
   "outputs": [],
   "source": [
    "\n",
    "zomato_real=pd.read_csv(\"zomato (5).csv\",encoding=\"latin-1\",usecols=range(17))\n"
   ]
  },
  {
   "cell_type": "code",
   "execution_count": null,
   "metadata": {},
   "outputs": [],
   "source": [
    "zomato_real.head(2)"
   ]
  },
  {
   "cell_type": "markdown",
   "metadata": {},
   "source": [
    "### STEP-2  Looking at the information about the dataset, datatypes of the coresponding columns and missing values"
   ]
  },
  {
   "cell_type": "code",
   "execution_count": null,
   "metadata": {
    "scrolled": false
   },
   "outputs": [],
   "source": [
    "zomato_real.info() "
   ]
  },
  {
   "cell_type": "markdown",
   "metadata": {},
   "source": [
    "# STEP-3 Find and Remove the Duplicate rows"
   ]
  },
  {
   "cell_type": "code",
   "execution_count": null,
   "metadata": {},
   "outputs": [],
   "source": [
    "\n",
    "zomato_real.duplicated().sum()\n",
    "\n"
   ]
  },
  {
   "cell_type": "code",
   "execution_count": null,
   "metadata": {},
   "outputs": [],
   "source": [
    "zomato_real.drop_duplicates(inplace=True)"
   ]
  },
  {
   "cell_type": "code",
   "execution_count": null,
   "metadata": {},
   "outputs": [],
   "source": [
    "zomato_real.reset_index(inplace=True,drop=True)"
   ]
  },
  {
   "cell_type": "markdown",
   "metadata": {},
   "source": [
    "# STEP-4 Find NaN values"
   ]
  },
  {
   "cell_type": "code",
   "execution_count": null,
   "metadata": {},
   "outputs": [],
   "source": [
    "zomato_real.isnull().mean()*100"
   ]
  },
  {
   "cell_type": "markdown",
   "metadata": {},
   "source": [
    "# STEP-5 Reading columns name"
   ]
  },
  {
   "cell_type": "code",
   "execution_count": null,
   "metadata": {},
   "outputs": [],
   "source": [
    "\n",
    "zomato_real.columns"
   ]
  },
  {
   "cell_type": "markdown",
   "metadata": {},
   "source": [
    "# STEP-6 Changing the columns name,if needed"
   ]
  },
  {
   "cell_type": "code",
   "execution_count": null,
   "metadata": {},
   "outputs": [],
   "source": [
    "\n",
    "zomato_real = zomato_real.rename(columns={'approx_cost(for two people)':'cost','listed_in(type)':'type',\n",
    "                                  'listed_in(city)':'city'})\n",
    "zomato_real.columns"
   ]
  },
  {
   "cell_type": "markdown",
   "metadata": {},
   "source": [
    "# STEP-7 FEATURE CLEANSING "
   ]
  },
  {
   "cell_type": "code",
   "execution_count": null,
   "metadata": {},
   "outputs": [],
   "source": [
    "zomato=zomato_real.copy()"
   ]
  },
  {
   "cell_type": "code",
   "execution_count": null,
   "metadata": {},
   "outputs": [],
   "source": [
    "zomato[\"book_table\"].unique()"
   ]
  },
  {
   "cell_type": "code",
   "execution_count": null,
   "metadata": {},
   "outputs": [],
   "source": [
    "a=[]\n",
    "for i,j in enumerate(zomato[\"book_table\"]):\n",
    "    if j==\"Yes\" or j==\"No\":\n",
    "        pass\n",
    "    else:\n",
    "        a.append(i)"
   ]
  },
  {
   "cell_type": "code",
   "execution_count": null,
   "metadata": {},
   "outputs": [],
   "source": [
    "len(a)"
   ]
  },
  {
   "cell_type": "code",
   "execution_count": null,
   "metadata": {},
   "outputs": [],
   "source": [
    "zomato.iloc[a].head(2)"
   ]
  },
  {
   "cell_type": "code",
   "execution_count": null,
   "metadata": {},
   "outputs": [],
   "source": [
    "zomato_new=zomato.drop(a,axis=0)"
   ]
  },
  {
   "cell_type": "code",
   "execution_count": null,
   "metadata": {},
   "outputs": [],
   "source": [
    "zomato_new.reset_index(drop=True,inplace=True)"
   ]
  },
  {
   "cell_type": "code",
   "execution_count": null,
   "metadata": {},
   "outputs": [],
   "source": [
    "zomato_new[\"book_table\"].unique()"
   ]
  },
  {
   "cell_type": "code",
   "execution_count": null,
   "metadata": {},
   "outputs": [],
   "source": [
    "zomato_new[\"cost\"].unique()"
   ]
  },
  {
   "cell_type": "code",
   "execution_count": null,
   "metadata": {
    "scrolled": true
   },
   "outputs": [],
   "source": [
    "zomato_new[\"cost\"]=zomato_new[\"cost\"].apply(lambda x:x.replace(',','') if type(x)!=float else x)"
   ]
  },
  {
   "cell_type": "code",
   "execution_count": null,
   "metadata": {},
   "outputs": [],
   "source": [
    "zomato_new[\"cost\"]=zomato_new[\"cost\"].astype(str)\n",
    "zomato_new[\"cost\"]=zomato_new[\"cost\"].apply(lambda x:x.replace(',',''))\n",
    "zomato_new[\"cost\"]=zomato_new[\"cost\"].apply(lambda x:x.strip('+'))\n",
    "zomato_new[\"cost\"]=zomato_new[\"cost\"].astype(\"float\")"
   ]
  },
  {
   "cell_type": "code",
   "execution_count": null,
   "metadata": {},
   "outputs": [],
   "source": [
    "zomato_new[\"cost\"].unique()"
   ]
  },
  {
   "cell_type": "code",
   "execution_count": null,
   "metadata": {},
   "outputs": [],
   "source": [
    "zomato_new[\"rate\"].unique()"
   ]
  },
  {
   "cell_type": "code",
   "execution_count": null,
   "metadata": {},
   "outputs": [],
   "source": [
    "zomato_new[\"rate\"]=zomato_new[\"rate\"].astype(str)\n",
    "zomato_new[\"rate\"]=zomato_new[\"rate\"].apply(lambda x: x[0:3])"
   ]
  },
  {
   "cell_type": "code",
   "execution_count": null,
   "metadata": {},
   "outputs": [],
   "source": [
    "zomato_new[\"rate\"].unique()"
   ]
  },
  {
   "cell_type": "code",
   "execution_count": null,
   "metadata": {},
   "outputs": [],
   "source": [
    "zomato_new[\"rate\"]=zomato_new[\"rate\"].replace(\"-\",np.nan)\n",
    "zomato_new[\"rate\"]=zomato_new[\"rate\"].replace(\"NEW\",np.nan)\n",
    "zomato_new[\"rate\"]=zomato_new[\"rate\"].replace('nan',np.nan)"
   ]
  },
  {
   "cell_type": "code",
   "execution_count": null,
   "metadata": {},
   "outputs": [],
   "source": [
    "zomato_new[\"rate\"]=zomato_new[\"rate\"].astype(\"float\")"
   ]
  },
  {
   "cell_type": "code",
   "execution_count": null,
   "metadata": {},
   "outputs": [],
   "source": [
    "zomato_new[\"rate\"].unique()"
   ]
  },
  {
   "cell_type": "code",
   "execution_count": null,
   "metadata": {},
   "outputs": [],
   "source": [
    "zomato_new[\"votes\"].unique()"
   ]
  },
  {
   "cell_type": "code",
   "execution_count": null,
   "metadata": {},
   "outputs": [],
   "source": [
    "for i,j in enumerate(zomato_new[\"votes\"]):\n",
    "    try:\n",
    "        if type(float(j))==float:\n",
    "            pass\n",
    "    except :\n",
    "        print(i,j)\n",
    "    "
   ]
  },
  {
   "cell_type": "code",
   "execution_count": null,
   "metadata": {},
   "outputs": [],
   "source": [
    "zomato_new[\"votes\"]=zomato_new[\"votes\"].astype(\"str\")"
   ]
  },
  {
   "cell_type": "code",
   "execution_count": null,
   "metadata": {},
   "outputs": [],
   "source": [
    "zomato_new[\"votes\"]=zomato_new[\"votes\"].apply(lambda x : x.replace(\",\",\"\"))"
   ]
  },
  {
   "cell_type": "code",
   "execution_count": null,
   "metadata": {},
   "outputs": [],
   "source": [
    "zomato_new[\"votes\"]=zomato_new[\"votes\"].astype(\"int\")"
   ]
  },
  {
   "cell_type": "code",
   "execution_count": null,
   "metadata": {},
   "outputs": [],
   "source": [
    "zomato_new.info()"
   ]
  },
  {
   "cell_type": "markdown",
   "metadata": {},
   "source": [
    "# STEP-8 Deleting Unnnecessary Columns"
   ]
  },
  {
   "cell_type": "code",
   "execution_count": null,
   "metadata": {},
   "outputs": [],
   "source": [
    "zomato_new=zomato_new.drop([\"name\",'url',\"dish_liked\",'phone','address','reviews_list','menu_item','location'],axis=1) "
   ]
  },
  {
   "cell_type": "code",
   "execution_count": null,
   "metadata": {},
   "outputs": [],
   "source": [
    "zomato_new.head()"
   ]
  },
  {
   "cell_type": "code",
   "execution_count": null,
   "metadata": {},
   "outputs": [],
   "source": [
    "zomato_new.info()"
   ]
  },
  {
   "cell_type": "code",
   "execution_count": null,
   "metadata": {},
   "outputs": [],
   "source": [
    "zomato_new=zomato_new.reset_index(drop=True)"
   ]
  },
  {
   "cell_type": "code",
   "execution_count": null,
   "metadata": {},
   "outputs": [],
   "source": [
    "zomato_new.info()"
   ]
  },
  {
   "cell_type": "markdown",
   "metadata": {},
   "source": [
    "# STEP-9 Data Visualization"
   ]
  },
  {
   "cell_type": "markdown",
   "metadata": {},
   "source": [
    "### A) Restaurants delivering Online or not"
   ]
  },
  {
   "cell_type": "code",
   "execution_count": null,
   "metadata": {},
   "outputs": [],
   "source": [
    "zomato_new[\"online_order\"].value_counts()"
   ]
  },
  {
   "cell_type": "code",
   "execution_count": null,
   "metadata": {},
   "outputs": [],
   "source": [
    "a=plt.figure(figsize=(15,5))\n",
    "ax=sns.countplot(zomato_new,x='online_order',palette=\"rocket\")\n",
    "plt.title('Restaurants delivering online or Not')\n",
    "for container in ax.containers:\n",
    "    ax.bar_label(container)\n",
    "plt.show()"
   ]
  },
  {
   "cell_type": "markdown",
   "metadata": {},
   "source": [
    "### B) Restaurants allowing table booking or not"
   ]
  },
  {
   "cell_type": "code",
   "execution_count": null,
   "metadata": {},
   "outputs": [],
   "source": [
    "b=plt.figure(figsize=(15,5))\n",
    "ax=sns.countplot(zomato_new,x='book_table',palette=\"flare\")\n",
    "plt.title('Restaurants allowing table booking or not')\n",
    "for container in ax.containers:\n",
    "    ax.bar_label(container)\n",
    "\n",
    "plt.show()"
   ]
  },
  {
   "cell_type": "markdown",
   "metadata": {},
   "source": [
    "#### Table booking Rate vs Normal Rate"
   ]
  },
  {
   "cell_type": "code",
   "execution_count": null,
   "metadata": {},
   "outputs": [],
   "source": [
    "Y = pd.crosstab(zomato_new['rate'], zomato_new['book_table'])\n"
   ]
  },
  {
   "cell_type": "code",
   "execution_count": null,
   "metadata": {},
   "outputs": [],
   "source": [
    "Y"
   ]
  },
  {
   "cell_type": "code",
   "execution_count": null,
   "metadata": {},
   "outputs": [],
   "source": [
    "Y.plot(kind = 'bar', stacked = True,color=['maroon','green'],figsize=(18,8))\n",
    "plt.title('table booking rate', fontweight = 30, fontsize = 30)\n",
    "plt.xticks(fontsize=10,fontweight='bold')\n",
    "plt.legend(loc=\"upper right\")\n",
    "plt.show()"
   ]
  },
  {
   "cell_type": "markdown",
   "metadata": {},
   "source": [
    "#### Online Order Rate vs Normal Rate"
   ]
  },
  {
   "cell_type": "code",
   "execution_count": null,
   "metadata": {},
   "outputs": [],
   "source": [
    "Y = pd.crosstab(zomato_new['rate'], zomato_new['online_order'])\n"
   ]
  },
  {
   "cell_type": "code",
   "execution_count": null,
   "metadata": {},
   "outputs": [],
   "source": [
    "Y.plot(kind = 'bar', stacked = True,color=['maroon','olive'],figsize=(18,8))\n",
    "plt.title('Online Order Rate', fontweight = 30, fontsize = 30)\n",
    "plt.xticks(fontsize=10,fontweight='bold')\n",
    "plt.legend(loc=\"upper right\")\n",
    "plt.show()"
   ]
  },
  {
   "cell_type": "markdown",
   "metadata": {},
   "source": [
    "#### Location"
   ]
  },
  {
   "cell_type": "code",
   "execution_count": null,
   "metadata": {},
   "outputs": [],
   "source": [
    "d=plt.figure(figsize=(22,8))\n",
    "\n",
    "ax=sns.countplot(zomato_new,x='city')\n",
    "sns.countplot(zomato_new,x='city').set_xticklabels(sns.countplot(zomato_new,x='city').get_xticklabels(), rotation=90, ha=\"right\",fontweight='bold')\n",
    "plt.title('Location wise count for restaurants')\n",
    "for container in ax.containers:\n",
    "    ax.bar_label(container)\n",
    "\n",
    "\n",
    "plt.show()"
   ]
  },
  {
   "cell_type": "markdown",
   "metadata": {},
   "source": [
    "#### Location and Rating"
   ]
  },
  {
   "cell_type": "code",
   "execution_count": null,
   "metadata": {},
   "outputs": [],
   "source": [
    "zomato_new['city'].value_counts().head(10).index"
   ]
  },
  {
   "cell_type": "code",
   "execution_count": null,
   "metadata": {},
   "outputs": [],
   "source": [
    "zom_loc=[i for i in zomato_new['city'].value_counts().head(10).index ]"
   ]
  },
  {
   "cell_type": "code",
   "execution_count": null,
   "metadata": {},
   "outputs": [],
   "source": [
    "zom_loc"
   ]
  },
  {
   "cell_type": "code",
   "execution_count": null,
   "metadata": {},
   "outputs": [],
   "source": [
    "zom_top_loc=zomato_new.loc[zomato_new[\"city\"].isin(zom_loc)]"
   ]
  },
  {
   "cell_type": "code",
   "execution_count": null,
   "metadata": {},
   "outputs": [],
   "source": [
    "zom_top_loc"
   ]
  },
  {
   "cell_type": "code",
   "execution_count": null,
   "metadata": {},
   "outputs": [],
   "source": [
    "loc_plt=pd.crosstab(zom_top_loc['rate'],zom_top_loc['city'])\n",
    "loc_plt"
   ]
  },
  {
   "cell_type": "code",
   "execution_count": null,
   "metadata": {},
   "outputs": [],
   "source": [
    "loc_plt.plot(kind='bar',stacked=True,figsize=(25,10));\n",
    "plt.title('Locationwise Rating',fontsize=15,fontweight='bold')\n",
    "plt.ylabel('Location',fontsize=15,fontweight='bold')\n",
    "plt.xlabel('Rating',fontsize=20,fontweight='bold')\n",
    "plt.xticks(fontsize=15,fontweight='bold')\n",
    "plt.yticks(fontsize=15,fontweight='bold')\n",
    "plt.legend(loc=\"best\");"
   ]
  },
  {
   "cell_type": "code",
   "execution_count": null,
   "metadata": {},
   "outputs": [],
   "source": []
  },
  {
   "cell_type": "markdown",
   "metadata": {},
   "source": [
    "#### Restaurant Type"
   ]
  },
  {
   "cell_type": "code",
   "execution_count": null,
   "metadata": {},
   "outputs": [],
   "source": [
    "zomato_new[\"rest_type\"].nunique()"
   ]
  },
  {
   "cell_type": "code",
   "execution_count": null,
   "metadata": {},
   "outputs": [],
   "source": [
    "top_10=[i for i in zomato_new[\"rest_type\"].value_counts().head(10).index]"
   ]
  },
  {
   "cell_type": "code",
   "execution_count": null,
   "metadata": {},
   "outputs": [],
   "source": [
    "top_10"
   ]
  },
  {
   "cell_type": "code",
   "execution_count": null,
   "metadata": {},
   "outputs": [],
   "source": [
    "zoomzto_top10=zomato_new.loc[zomato_new[\"rest_type\"].isin(top_10)]"
   ]
  },
  {
   "cell_type": "code",
   "execution_count": null,
   "metadata": {},
   "outputs": [],
   "source": [
    "zoomzto_top10[\"rest_type\"].value_counts()"
   ]
  },
  {
   "cell_type": "code",
   "execution_count": null,
   "metadata": {},
   "outputs": [],
   "source": [
    "plt.figure(figsize=(30,10))\n",
    "ax=sns.countplot(zoomzto_top10,x='rest_type')\n",
    "sns.countplot(zoomzto_top10,x='rest_type').set_xticklabels(sns.countplot(zoomzto_top10,x='rest_type').get_xticklabels(), rotation=90, ha=\"right\",fontweight='bold')\n",
    "plt.xlabel('rest_type',fontsize=20,fontweight='bold')\n",
    "plt.title('Restuarant Type',fontsize=30)\n",
    "for container in ax.containers:\n",
    "    ax.bar_label(container)\n",
    "plt.show()"
   ]
  },
  {
   "cell_type": "markdown",
   "metadata": {},
   "source": [
    "#### Type of rest vs Rating"
   ]
  },
  {
   "cell_type": "code",
   "execution_count": null,
   "metadata": {},
   "outputs": [],
   "source": [
    "loc_plt=pd.crosstab(zoomzto_top10['rate'],zomato_new['rest_type'])\n",
    "loc_plt"
   ]
  },
  {
   "cell_type": "code",
   "execution_count": null,
   "metadata": {},
   "outputs": [],
   "source": [
    "loc_plt.plot(kind='bar',stacked=True,figsize=(25,10));\n",
    "plt.title('Rest_Type Rating',fontsize=15,fontweight='bold')\n",
    "plt.ylabel('Rest_Type',fontsize=15,fontweight='bold')\n",
    "plt.xlabel('Rating',fontsize=20,fontweight='bold')\n",
    "plt.xticks(fontsize=15,fontweight='bold')\n",
    "plt.yticks(fontsize=15,fontweight='bold')\n",
    "plt.legend(loc=\"best\");"
   ]
  },
  {
   "cell_type": "markdown",
   "metadata": {},
   "source": [
    "#### Types of Services"
   ]
  },
  {
   "cell_type": "code",
   "execution_count": null,
   "metadata": {},
   "outputs": [],
   "source": [
    "plt.figure(figsize=(20,8))\n",
    "ax=sns.countplot(zomato_new,x='type')\n",
    "sns.countplot(zomato_new,x='type').set_xticklabels(sns.countplot(zomato_new,x='type').get_xticklabels(), rotation=90, ha=\"right\")\n",
    "plt.title('Type of Service')\n",
    "for container in ax.containers:\n",
    "    ax.bar_label(container)\n",
    "plt.show()"
   ]
  },
  {
   "cell_type": "markdown",
   "metadata": {},
   "source": [
    "#### Type and Rating"
   ]
  },
  {
   "cell_type": "code",
   "execution_count": null,
   "metadata": {},
   "outputs": [],
   "source": [
    "type_plt=pd.crosstab(zomato_new['rate'],zomato_new['type'])\n",
    "type_plt.plot(kind='bar',stacked=True,figsize=(25,10))\n",
    "plt.title('Type - Rating',fontsize=15,fontweight='bold')\n",
    "plt.ylabel('Type',fontsize=10,fontweight='bold')\n",
    "plt.xlabel('Rating',fontsize=10,fontweight='bold')\n",
    "plt.xticks(fontsize=10,fontweight='bold')\n",
    "plt.yticks(fontsize=10,fontweight='bold');"
   ]
  },
  {
   "cell_type": "markdown",
   "metadata": {},
   "source": [
    "#### Cost of Restuarant"
   ]
  },
  {
   "cell_type": "code",
   "execution_count": null,
   "metadata": {},
   "outputs": [],
   "source": [
    "plt.figure(figsize=(25,8))\n",
    "sns.countplot(zomato_new,x='cost')\n",
    "sns.countplot(zomato_new,x='cost').set_xticklabels(sns.countplot(zomato_new,x='cost').get_xticklabels(), rotation=90, ha=\"right\",fontweight='bold')\n",
    "plt.title('Cost of Restuarant')\n",
    "plt.show()"
   ]
  },
  {
   "cell_type": "code",
   "execution_count": null,
   "metadata": {},
   "outputs": [],
   "source": [
    "top_10_cost=[i for i in zomato_new[\"cost\"].value_counts().head(10).index]"
   ]
  },
  {
   "cell_type": "code",
   "execution_count": null,
   "metadata": {},
   "outputs": [],
   "source": [
    "top_10_cost"
   ]
  },
  {
   "cell_type": "code",
   "execution_count": null,
   "metadata": {},
   "outputs": [],
   "source": [
    "zom_10_cost=zomato_new.loc[zomato_new[\"cost\"].isin(top_10_cost)]"
   ]
  },
  {
   "cell_type": "code",
   "execution_count": null,
   "metadata": {},
   "outputs": [],
   "source": [
    "zom_10_cost[\"cost\"].value_counts()"
   ]
  },
  {
   "cell_type": "code",
   "execution_count": null,
   "metadata": {},
   "outputs": [],
   "source": [
    "type_plt=pd.crosstab(zom_10_cost['rate'],zom_10_cost['cost'])\n",
    "type_plt.plot(kind='bar',stacked=True,figsize=(25,10))\n",
    "plt.title('Cost - Rating',fontsize=15,fontweight='bold')\n",
    "plt.ylabel('Cost',fontsize=10,fontweight='bold')\n",
    "plt.xlabel('Rating',fontsize=10,fontweight='bold')\n",
    "plt.xticks(fontsize=10,fontweight='bold')\n",
    "plt.yticks(fontsize=10,fontweight='bold');"
   ]
  },
  {
   "cell_type": "code",
   "execution_count": null,
   "metadata": {},
   "outputs": [],
   "source": [
    "zomato_new.isnull().sum()"
   ]
  },
  {
   "cell_type": "markdown",
   "metadata": {},
   "source": [
    "## Cuisine Analysis"
   ]
  },
  {
   "cell_type": "code",
   "execution_count": null,
   "metadata": {},
   "outputs": [],
   "source": [
    "zomato_new.head()"
   ]
  },
  {
   "cell_type": "code",
   "execution_count": null,
   "metadata": {},
   "outputs": [],
   "source": [
    "zomato_new[\"cuisines_list\"]=zomato[\"cuisines\"].apply(lambda x:x.split(\",\") if type(x)!=float else x)"
   ]
  },
  {
   "cell_type": "code",
   "execution_count": null,
   "metadata": {},
   "outputs": [],
   "source": [
    "for i in zomato_new[\"cuisines_list\"]:\n",
    "    for j in i:\n",
    "        print(j)\n",
    "        break\n",
    "        "
   ]
  },
  {
   "cell_type": "code",
   "execution_count": null,
   "metadata": {},
   "outputs": [],
   "source": [
    "count=0\n",
    "for i in zomato_new[\"cuisines_list\"]:\n",
    "    if type(i)==list:\n",
    "        for j in i:\n",
    "            a=j.title().strip()\n",
    "            if a==\"North Indian\":\n",
    "                count+=1\n",
    "                break\n",
    "            else:\n",
    "                continue\n",
    "            "
   ]
  },
  {
   "cell_type": "code",
   "execution_count": null,
   "metadata": {},
   "outputs": [],
   "source": [
    "count"
   ]
  },
  {
   "cell_type": "code",
   "execution_count": null,
   "metadata": {},
   "outputs": [],
   "source": []
  },
  {
   "cell_type": "code",
   "execution_count": null,
   "metadata": {},
   "outputs": [],
   "source": []
  },
  {
   "cell_type": "code",
   "execution_count": 179,
   "metadata": {},
   "outputs": [
    {
     "data": {
      "text/plain": [
       "['North Indian', ' Mughlai', ' Chinese']"
      ]
     },
     "execution_count": 179,
     "metadata": {},
     "output_type": "execute_result"
    }
   ],
   "source": [
    "zomato_new[\"cuisines\"][0].split(\",\")"
   ]
  },
  {
   "cell_type": "code",
   "execution_count": 94,
   "metadata": {},
   "outputs": [],
   "source": [
    "zomato_new[\"cuisines\"]=zomato_new[\"cuisines\"].apply(lambda x: x.split(\",\") if type(x)!=float else np.nan)"
   ]
  },
  {
   "cell_type": "code",
   "execution_count": 95,
   "metadata": {},
   "outputs": [
    {
     "data": {
      "text/plain": [
       "0                [North Indian,  Mughlai,  Chinese]\n",
       "1                   [Chinese,  North Indian,  Thai]\n",
       "2                        [Cafe,  Mexican,  Italian]\n",
       "3                     [South Indian,  North Indian]\n",
       "4                       [North Indian,  Rajasthani]\n",
       "                            ...                    \n",
       "51712                                 [Continental]\n",
       "51713                                 [Finger Food]\n",
       "51714                                 [Finger Food]\n",
       "51715                                 [Finger Food]\n",
       "51716    [Finger Food,  North Indian,  Continental]\n",
       "Name: cuisines, Length: 51717, dtype: object"
      ]
     },
     "execution_count": 95,
     "metadata": {},
     "output_type": "execute_result"
    }
   ],
   "source": [
    "zomato_new[\"cuisines\"]"
   ]
  },
  {
   "cell_type": "code",
   "execution_count": 96,
   "metadata": {},
   "outputs": [],
   "source": [
    "zomato_cus=zomato_new.copy()"
   ]
  },
  {
   "cell_type": "code",
   "execution_count": 97,
   "metadata": {},
   "outputs": [],
   "source": [
    "df_cus=zomato_cus.explode(\"cuisines\")"
   ]
  },
  {
   "cell_type": "code",
   "execution_count": 98,
   "metadata": {},
   "outputs": [
    {
     "data": {
      "text/html": [
       "<div>\n",
       "<style scoped>\n",
       "    .dataframe tbody tr th:only-of-type {\n",
       "        vertical-align: middle;\n",
       "    }\n",
       "\n",
       "    .dataframe tbody tr th {\n",
       "        vertical-align: top;\n",
       "    }\n",
       "\n",
       "    .dataframe thead th {\n",
       "        text-align: right;\n",
       "    }\n",
       "</style>\n",
       "<table border=\"1\" class=\"dataframe\">\n",
       "  <thead>\n",
       "    <tr style=\"text-align: right;\">\n",
       "      <th></th>\n",
       "      <th>name</th>\n",
       "      <th>online_order</th>\n",
       "      <th>book_table</th>\n",
       "      <th>rate</th>\n",
       "      <th>votes</th>\n",
       "      <th>rest_type</th>\n",
       "      <th>cuisines</th>\n",
       "      <th>cost</th>\n",
       "      <th>type</th>\n",
       "      <th>city</th>\n",
       "      <th>cuisines_list</th>\n",
       "    </tr>\n",
       "  </thead>\n",
       "  <tbody>\n",
       "    <tr>\n",
       "      <th>0</th>\n",
       "      <td>Jalsa</td>\n",
       "      <td>Yes</td>\n",
       "      <td>Yes</td>\n",
       "      <td>4.10</td>\n",
       "      <td>775</td>\n",
       "      <td>Casual Dining</td>\n",
       "      <td>North Indian</td>\n",
       "      <td>800.00</td>\n",
       "      <td>Buffet</td>\n",
       "      <td>Banashankari</td>\n",
       "      <td>[North Indian,  Mughlai,  Chinese]</td>\n",
       "    </tr>\n",
       "    <tr>\n",
       "      <th>0</th>\n",
       "      <td>Jalsa</td>\n",
       "      <td>Yes</td>\n",
       "      <td>Yes</td>\n",
       "      <td>4.10</td>\n",
       "      <td>775</td>\n",
       "      <td>Casual Dining</td>\n",
       "      <td>Mughlai</td>\n",
       "      <td>800.00</td>\n",
       "      <td>Buffet</td>\n",
       "      <td>Banashankari</td>\n",
       "      <td>[North Indian,  Mughlai,  Chinese]</td>\n",
       "    </tr>\n",
       "    <tr>\n",
       "      <th>0</th>\n",
       "      <td>Jalsa</td>\n",
       "      <td>Yes</td>\n",
       "      <td>Yes</td>\n",
       "      <td>4.10</td>\n",
       "      <td>775</td>\n",
       "      <td>Casual Dining</td>\n",
       "      <td>Chinese</td>\n",
       "      <td>800.00</td>\n",
       "      <td>Buffet</td>\n",
       "      <td>Banashankari</td>\n",
       "      <td>[North Indian,  Mughlai,  Chinese]</td>\n",
       "    </tr>\n",
       "    <tr>\n",
       "      <th>1</th>\n",
       "      <td>Spice Elephant</td>\n",
       "      <td>Yes</td>\n",
       "      <td>No</td>\n",
       "      <td>4.10</td>\n",
       "      <td>787</td>\n",
       "      <td>Casual Dining</td>\n",
       "      <td>Chinese</td>\n",
       "      <td>800.00</td>\n",
       "      <td>Buffet</td>\n",
       "      <td>Banashankari</td>\n",
       "      <td>[Chinese,  North Indian,  Thai]</td>\n",
       "    </tr>\n",
       "    <tr>\n",
       "      <th>1</th>\n",
       "      <td>Spice Elephant</td>\n",
       "      <td>Yes</td>\n",
       "      <td>No</td>\n",
       "      <td>4.10</td>\n",
       "      <td>787</td>\n",
       "      <td>Casual Dining</td>\n",
       "      <td>North Indian</td>\n",
       "      <td>800.00</td>\n",
       "      <td>Buffet</td>\n",
       "      <td>Banashankari</td>\n",
       "      <td>[Chinese,  North Indian,  Thai]</td>\n",
       "    </tr>\n",
       "    <tr>\n",
       "      <th>...</th>\n",
       "      <td>...</td>\n",
       "      <td>...</td>\n",
       "      <td>...</td>\n",
       "      <td>...</td>\n",
       "      <td>...</td>\n",
       "      <td>...</td>\n",
       "      <td>...</td>\n",
       "      <td>...</td>\n",
       "      <td>...</td>\n",
       "      <td>...</td>\n",
       "      <td>...</td>\n",
       "    </tr>\n",
       "    <tr>\n",
       "      <th>51714</th>\n",
       "      <td>Plunge - Sheraton Grand Bengaluru Whitefield H...</td>\n",
       "      <td>No</td>\n",
       "      <td>No</td>\n",
       "      <td>NaN</td>\n",
       "      <td>0</td>\n",
       "      <td>Bar</td>\n",
       "      <td>Finger Food</td>\n",
       "      <td>2000.00</td>\n",
       "      <td>Pubs and bars</td>\n",
       "      <td>Whitefield</td>\n",
       "      <td>[Biryani,  Kebab]</td>\n",
       "    </tr>\n",
       "    <tr>\n",
       "      <th>51715</th>\n",
       "      <td>Chime - Sheraton Grand Bengaluru Whitefield Ho...</td>\n",
       "      <td>No</td>\n",
       "      <td>Yes</td>\n",
       "      <td>4.30</td>\n",
       "      <td>236</td>\n",
       "      <td>Bar</td>\n",
       "      <td>Finger Food</td>\n",
       "      <td>2500.00</td>\n",
       "      <td>Pubs and bars</td>\n",
       "      <td>Whitefield</td>\n",
       "      <td>[South Indian,  Biryani]</td>\n",
       "    </tr>\n",
       "    <tr>\n",
       "      <th>51716</th>\n",
       "      <td>The Nest - The Den Bengaluru</td>\n",
       "      <td>No</td>\n",
       "      <td>No</td>\n",
       "      <td>3.40</td>\n",
       "      <td>13</td>\n",
       "      <td>Bar, Casual Dining</td>\n",
       "      <td>Finger Food</td>\n",
       "      <td>1500.00</td>\n",
       "      <td>Pubs and bars</td>\n",
       "      <td>Whitefield</td>\n",
       "      <td>[ ('Rated 5.0']</td>\n",
       "    </tr>\n",
       "    <tr>\n",
       "      <th>51716</th>\n",
       "      <td>The Nest - The Den Bengaluru</td>\n",
       "      <td>No</td>\n",
       "      <td>No</td>\n",
       "      <td>3.40</td>\n",
       "      <td>13</td>\n",
       "      <td>Bar, Casual Dining</td>\n",
       "      <td>North Indian</td>\n",
       "      <td>1500.00</td>\n",
       "      <td>Pubs and bars</td>\n",
       "      <td>Whitefield</td>\n",
       "      <td>[ ('Rated 5.0']</td>\n",
       "    </tr>\n",
       "    <tr>\n",
       "      <th>51716</th>\n",
       "      <td>The Nest - The Den Bengaluru</td>\n",
       "      <td>No</td>\n",
       "      <td>No</td>\n",
       "      <td>3.40</td>\n",
       "      <td>13</td>\n",
       "      <td>Bar, Casual Dining</td>\n",
       "      <td>Continental</td>\n",
       "      <td>1500.00</td>\n",
       "      <td>Pubs and bars</td>\n",
       "      <td>Whitefield</td>\n",
       "      <td>[ ('Rated 5.0']</td>\n",
       "    </tr>\n",
       "  </tbody>\n",
       "</table>\n",
       "<p>126864 rows × 11 columns</p>\n",
       "</div>"
      ],
      "text/plain": [
       "                                                    name online_order  \\\n",
       "0                                                  Jalsa          Yes   \n",
       "0                                                  Jalsa          Yes   \n",
       "0                                                  Jalsa          Yes   \n",
       "1                                         Spice Elephant          Yes   \n",
       "1                                         Spice Elephant          Yes   \n",
       "...                                                  ...          ...   \n",
       "51714  Plunge - Sheraton Grand Bengaluru Whitefield H...           No   \n",
       "51715  Chime - Sheraton Grand Bengaluru Whitefield Ho...           No   \n",
       "51716                       The Nest - The Den Bengaluru           No   \n",
       "51716                       The Nest - The Den Bengaluru           No   \n",
       "51716                       The Nest - The Den Bengaluru           No   \n",
       "\n",
       "      book_table  rate  votes           rest_type       cuisines    cost  \\\n",
       "0            Yes  4.10    775       Casual Dining   North Indian  800.00   \n",
       "0            Yes  4.10    775       Casual Dining        Mughlai  800.00   \n",
       "0            Yes  4.10    775       Casual Dining        Chinese  800.00   \n",
       "1             No  4.10    787       Casual Dining        Chinese  800.00   \n",
       "1             No  4.10    787       Casual Dining   North Indian  800.00   \n",
       "...          ...   ...    ...                 ...            ...     ...   \n",
       "51714         No   NaN      0                 Bar    Finger Food 2000.00   \n",
       "51715        Yes  4.30    236                 Bar    Finger Food 2500.00   \n",
       "51716         No  3.40     13  Bar, Casual Dining    Finger Food 1500.00   \n",
       "51716         No  3.40     13  Bar, Casual Dining   North Indian 1500.00   \n",
       "51716         No  3.40     13  Bar, Casual Dining    Continental 1500.00   \n",
       "\n",
       "                type          city                       cuisines_list  \n",
       "0             Buffet  Banashankari  [North Indian,  Mughlai,  Chinese]  \n",
       "0             Buffet  Banashankari  [North Indian,  Mughlai,  Chinese]  \n",
       "0             Buffet  Banashankari  [North Indian,  Mughlai,  Chinese]  \n",
       "1             Buffet  Banashankari     [Chinese,  North Indian,  Thai]  \n",
       "1             Buffet  Banashankari     [Chinese,  North Indian,  Thai]  \n",
       "...              ...           ...                                 ...  \n",
       "51714  Pubs and bars    Whitefield                   [Biryani,  Kebab]  \n",
       "51715  Pubs and bars    Whitefield            [South Indian,  Biryani]  \n",
       "51716  Pubs and bars    Whitefield                     [ ('Rated 5.0']  \n",
       "51716  Pubs and bars    Whitefield                     [ ('Rated 5.0']  \n",
       "51716  Pubs and bars    Whitefield                     [ ('Rated 5.0']  \n",
       "\n",
       "[126864 rows x 11 columns]"
      ]
     },
     "execution_count": 98,
     "metadata": {},
     "output_type": "execute_result"
    }
   ],
   "source": [
    "df_cus"
   ]
  },
  {
   "cell_type": "code",
   "execution_count": 184,
   "metadata": {
    "scrolled": true
   },
   "outputs": [
    {
     "data": {
      "text/plain": [
       " Chinese         12481\n",
       "North Indian     12299\n",
       " North Indian     8786\n",
       " Fast Food        5504\n",
       "South Indian      5010\n",
       "                 ...  \n",
       " German              3\n",
       " Indian              2\n",
       " Malwani             2\n",
       "Belgian              1\n",
       "Singaporean          1\n",
       "Name: cuisines, Length: 190, dtype: int64"
      ]
     },
     "execution_count": 184,
     "metadata": {},
     "output_type": "execute_result"
    }
   ],
   "source": [
    "df_cus[\"cuisines\"].value_counts()"
   ]
  },
  {
   "cell_type": "code",
   "execution_count": 99,
   "metadata": {},
   "outputs": [],
   "source": [
    "df_cus[\"cuisines\"]=df_cus[\"cuisines\"].apply(lambda x:x.lower().strip() if type(x)==str else x)"
   ]
  },
  {
   "cell_type": "code",
   "execution_count": 100,
   "metadata": {},
   "outputs": [
    {
     "data": {
      "text/plain": [
       "north indian    21085\n",
       "chinese         15547\n",
       "south indian     8644\n",
       "fast food        8096\n",
       "biryani          6492\n",
       "                ...  \n",
       "sindhi              4\n",
       "pan asian           3\n",
       "hot dogs            3\n",
       "indian              2\n",
       "malwani             2\n",
       "Name: cuisines, Length: 107, dtype: int64"
      ]
     },
     "execution_count": 100,
     "metadata": {},
     "output_type": "execute_result"
    }
   ],
   "source": [
    "df_cus[\"cuisines\"].value_counts()"
   ]
  },
  {
   "cell_type": "code",
   "execution_count": 106,
   "metadata": {},
   "outputs": [
    {
     "data": {
      "text/plain": [
       "Index(['BTM', 'Koramangala 7th Block', 'Koramangala 4th Block',\n",
       "       'Koramangala 5th Block', 'Koramangala 6th Block', 'Jayanagar',\n",
       "       'JP Nagar', 'Indiranagar', 'Church Street', 'HSR'],\n",
       "      dtype='object')"
      ]
     },
     "execution_count": 106,
     "metadata": {},
     "output_type": "execute_result"
    }
   ],
   "source": [
    "df_cus[\"city\"].value_counts().head(10).index"
   ]
  },
  {
   "cell_type": "code",
   "execution_count": 108,
   "metadata": {},
   "outputs": [],
   "source": [
    "top10=[i for i in df_cus[\"city\"].value_counts().head(10).index]"
   ]
  },
  {
   "cell_type": "code",
   "execution_count": 110,
   "metadata": {},
   "outputs": [],
   "source": [
    "top=df_cus.loc[df_cus[\"city\"].isin(top10)]"
   ]
  },
  {
   "cell_type": "code",
   "execution_count": 114,
   "metadata": {},
   "outputs": [
    {
     "data": {
      "text/plain": [
       "(53509, 11)"
      ]
     },
     "execution_count": 114,
     "metadata": {},
     "output_type": "execute_result"
    }
   ],
   "source": [
    "top.shape"
   ]
  },
  {
   "cell_type": "code",
   "execution_count": 117,
   "metadata": {},
   "outputs": [
    {
     "data": {
      "text/plain": [
       "north indian    8903\n",
       "chinese         6759\n",
       "fast food       3710\n",
       "south indian    3522\n",
       "biryani         2790\n",
       "desserts        2451\n",
       "beverages       2252\n",
       "cafe            2174\n",
       "continental     2127\n",
       "italian         1220\n",
       "Name: cuisines, dtype: int64"
      ]
     },
     "execution_count": 117,
     "metadata": {},
     "output_type": "execute_result"
    }
   ],
   "source": [
    "top[\"cuisines\"].value_counts().head(10)"
   ]
  },
  {
   "cell_type": "code",
   "execution_count": 122,
   "metadata": {},
   "outputs": [],
   "source": [
    "w=[i for i in top[\"cuisines\"].value_counts().head(10).index ]"
   ]
  },
  {
   "cell_type": "code",
   "execution_count": 123,
   "metadata": {},
   "outputs": [
    {
     "data": {
      "text/plain": [
       "['north indian',\n",
       " 'chinese',\n",
       " 'fast food',\n",
       " 'south indian',\n",
       " 'biryani',\n",
       " 'desserts',\n",
       " 'beverages',\n",
       " 'cafe',\n",
       " 'continental',\n",
       " 'italian']"
      ]
     },
     "execution_count": 123,
     "metadata": {},
     "output_type": "execute_result"
    }
   ],
   "source": [
    "w"
   ]
  },
  {
   "cell_type": "code",
   "execution_count": 124,
   "metadata": {},
   "outputs": [],
   "source": [
    "top_cus=top.loc[top[\"cuisines\"].isin([i for i in top[\"cuisines\"].value_counts().head(10).index ])]"
   ]
  },
  {
   "cell_type": "code",
   "execution_count": 128,
   "metadata": {},
   "outputs": [
    {
     "data": {
      "text/html": [
       "<div>\n",
       "<style scoped>\n",
       "    .dataframe tbody tr th:only-of-type {\n",
       "        vertical-align: middle;\n",
       "    }\n",
       "\n",
       "    .dataframe tbody tr th {\n",
       "        vertical-align: top;\n",
       "    }\n",
       "\n",
       "    .dataframe thead th {\n",
       "        text-align: right;\n",
       "    }\n",
       "</style>\n",
       "<table border=\"1\" class=\"dataframe\">\n",
       "  <thead>\n",
       "    <tr style=\"text-align: right;\">\n",
       "      <th>cuisines</th>\n",
       "      <th>beverages</th>\n",
       "      <th>biryani</th>\n",
       "      <th>cafe</th>\n",
       "      <th>chinese</th>\n",
       "      <th>continental</th>\n",
       "      <th>desserts</th>\n",
       "      <th>fast food</th>\n",
       "      <th>italian</th>\n",
       "      <th>north indian</th>\n",
       "      <th>south indian</th>\n",
       "      <th>All</th>\n",
       "    </tr>\n",
       "    <tr>\n",
       "      <th>city</th>\n",
       "      <th></th>\n",
       "      <th></th>\n",
       "      <th></th>\n",
       "      <th></th>\n",
       "      <th></th>\n",
       "      <th></th>\n",
       "      <th></th>\n",
       "      <th></th>\n",
       "      <th></th>\n",
       "      <th></th>\n",
       "      <th></th>\n",
       "    </tr>\n",
       "  </thead>\n",
       "  <tbody>\n",
       "    <tr>\n",
       "      <th>BTM</th>\n",
       "      <td>331</td>\n",
       "      <td>406</td>\n",
       "      <td>283</td>\n",
       "      <td>972</td>\n",
       "      <td>241</td>\n",
       "      <td>300</td>\n",
       "      <td>530</td>\n",
       "      <td>132</td>\n",
       "      <td>1294</td>\n",
       "      <td>474</td>\n",
       "      <td>4963</td>\n",
       "    </tr>\n",
       "    <tr>\n",
       "      <th>Church Street</th>\n",
       "      <td>99</td>\n",
       "      <td>148</td>\n",
       "      <td>215</td>\n",
       "      <td>462</td>\n",
       "      <td>246</td>\n",
       "      <td>204</td>\n",
       "      <td>250</td>\n",
       "      <td>125</td>\n",
       "      <td>601</td>\n",
       "      <td>291</td>\n",
       "      <td>2641</td>\n",
       "    </tr>\n",
       "    <tr>\n",
       "      <th>HSR</th>\n",
       "      <td>154</td>\n",
       "      <td>251</td>\n",
       "      <td>112</td>\n",
       "      <td>481</td>\n",
       "      <td>152</td>\n",
       "      <td>180</td>\n",
       "      <td>290</td>\n",
       "      <td>78</td>\n",
       "      <td>698</td>\n",
       "      <td>263</td>\n",
       "      <td>2659</td>\n",
       "    </tr>\n",
       "    <tr>\n",
       "      <th>Indiranagar</th>\n",
       "      <td>160</td>\n",
       "      <td>202</td>\n",
       "      <td>220</td>\n",
       "      <td>435</td>\n",
       "      <td>243</td>\n",
       "      <td>217</td>\n",
       "      <td>254</td>\n",
       "      <td>123</td>\n",
       "      <td>618</td>\n",
       "      <td>243</td>\n",
       "      <td>2715</td>\n",
       "    </tr>\n",
       "    <tr>\n",
       "      <th>JP Nagar</th>\n",
       "      <td>201</td>\n",
       "      <td>247</td>\n",
       "      <td>168</td>\n",
       "      <td>593</td>\n",
       "      <td>117</td>\n",
       "      <td>220</td>\n",
       "      <td>331</td>\n",
       "      <td>92</td>\n",
       "      <td>794</td>\n",
       "      <td>361</td>\n",
       "      <td>3124</td>\n",
       "    </tr>\n",
       "    <tr>\n",
       "      <th>Jayanagar</th>\n",
       "      <td>262</td>\n",
       "      <td>265</td>\n",
       "      <td>228</td>\n",
       "      <td>688</td>\n",
       "      <td>153</td>\n",
       "      <td>235</td>\n",
       "      <td>408</td>\n",
       "      <td>121</td>\n",
       "      <td>882</td>\n",
       "      <td>410</td>\n",
       "      <td>3652</td>\n",
       "    </tr>\n",
       "    <tr>\n",
       "      <th>Koramangala 4th Block</th>\n",
       "      <td>269</td>\n",
       "      <td>330</td>\n",
       "      <td>261</td>\n",
       "      <td>777</td>\n",
       "      <td>261</td>\n",
       "      <td>280</td>\n",
       "      <td>414</td>\n",
       "      <td>148</td>\n",
       "      <td>1003</td>\n",
       "      <td>367</td>\n",
       "      <td>4110</td>\n",
       "    </tr>\n",
       "    <tr>\n",
       "      <th>Koramangala 5th Block</th>\n",
       "      <td>257</td>\n",
       "      <td>333</td>\n",
       "      <td>199</td>\n",
       "      <td>809</td>\n",
       "      <td>241</td>\n",
       "      <td>269</td>\n",
       "      <td>415</td>\n",
       "      <td>130</td>\n",
       "      <td>1036</td>\n",
       "      <td>379</td>\n",
       "      <td>4068</td>\n",
       "    </tr>\n",
       "    <tr>\n",
       "      <th>Koramangala 6th Block</th>\n",
       "      <td>241</td>\n",
       "      <td>283</td>\n",
       "      <td>232</td>\n",
       "      <td>714</td>\n",
       "      <td>223</td>\n",
       "      <td>258</td>\n",
       "      <td>386</td>\n",
       "      <td>129</td>\n",
       "      <td>909</td>\n",
       "      <td>337</td>\n",
       "      <td>3712</td>\n",
       "    </tr>\n",
       "    <tr>\n",
       "      <th>Koramangala 7th Block</th>\n",
       "      <td>278</td>\n",
       "      <td>325</td>\n",
       "      <td>256</td>\n",
       "      <td>828</td>\n",
       "      <td>250</td>\n",
       "      <td>288</td>\n",
       "      <td>432</td>\n",
       "      <td>142</td>\n",
       "      <td>1068</td>\n",
       "      <td>397</td>\n",
       "      <td>4264</td>\n",
       "    </tr>\n",
       "    <tr>\n",
       "      <th>All</th>\n",
       "      <td>2252</td>\n",
       "      <td>2790</td>\n",
       "      <td>2174</td>\n",
       "      <td>6759</td>\n",
       "      <td>2127</td>\n",
       "      <td>2451</td>\n",
       "      <td>3710</td>\n",
       "      <td>1220</td>\n",
       "      <td>8903</td>\n",
       "      <td>3522</td>\n",
       "      <td>35908</td>\n",
       "    </tr>\n",
       "  </tbody>\n",
       "</table>\n",
       "</div>"
      ],
      "text/plain": [
       "cuisines               beverages  biryani  cafe  chinese  continental  \\\n",
       "city                                                                    \n",
       "BTM                          331      406   283      972          241   \n",
       "Church Street                 99      148   215      462          246   \n",
       "HSR                          154      251   112      481          152   \n",
       "Indiranagar                  160      202   220      435          243   \n",
       "JP Nagar                     201      247   168      593          117   \n",
       "Jayanagar                    262      265   228      688          153   \n",
       "Koramangala 4th Block        269      330   261      777          261   \n",
       "Koramangala 5th Block        257      333   199      809          241   \n",
       "Koramangala 6th Block        241      283   232      714          223   \n",
       "Koramangala 7th Block        278      325   256      828          250   \n",
       "All                         2252     2790  2174     6759         2127   \n",
       "\n",
       "cuisines               desserts  fast food  italian  north indian  \\\n",
       "city                                                                \n",
       "BTM                         300        530      132          1294   \n",
       "Church Street               204        250      125           601   \n",
       "HSR                         180        290       78           698   \n",
       "Indiranagar                 217        254      123           618   \n",
       "JP Nagar                    220        331       92           794   \n",
       "Jayanagar                   235        408      121           882   \n",
       "Koramangala 4th Block       280        414      148          1003   \n",
       "Koramangala 5th Block       269        415      130          1036   \n",
       "Koramangala 6th Block       258        386      129           909   \n",
       "Koramangala 7th Block       288        432      142          1068   \n",
       "All                        2451       3710     1220          8903   \n",
       "\n",
       "cuisines               south indian    All  \n",
       "city                                        \n",
       "BTM                             474   4963  \n",
       "Church Street                   291   2641  \n",
       "HSR                             263   2659  \n",
       "Indiranagar                     243   2715  \n",
       "JP Nagar                        361   3124  \n",
       "Jayanagar                       410   3652  \n",
       "Koramangala 4th Block           367   4110  \n",
       "Koramangala 5th Block           379   4068  \n",
       "Koramangala 6th Block           337   3712  \n",
       "Koramangala 7th Block           397   4264  \n",
       "All                            3522  35908  "
      ]
     },
     "execution_count": 128,
     "metadata": {},
     "output_type": "execute_result"
    }
   ],
   "source": [
    "pd.crosstab(top_cus[\"city\"],top_cus[\"cuisines\"],margins=True)"
   ]
  },
  {
   "cell_type": "code",
   "execution_count": 187,
   "metadata": {
    "scrolled": false
   },
   "outputs": [
    {
     "data": {
      "image/png": "[encoded data removed]",
      "text/plain": [
       "<Figure size 2400x700 with 1 Axes>"
      ]
     },
     "metadata": {},
     "output_type": "display_data"
    }
   ],
   "source": [
    "fig = plt.figure(figsize=(24,7))\n",
    "rest = sns.countplot(x=\"cuisines\",data=df_cus, palette = \"Set1\")\n",
    "rest.set_xticklabels(rest.get_xticklabels(), rotation=90, ha=\"right\")\n",
    "plt.ylabel(\"Frequency\",size=15)\n",
    "plt.xlabel(\"Cuisines\",size=15)\n",
    "\n",
    "plt.title('TYPES OF CUISINES',fontsize = 20 ,pad=20)\n",
    "plt.show()"
   ]
  },
  {
   "cell_type": "markdown",
   "metadata": {},
   "source": [
    "# Feature Engineering "
   ]
  },
  {
   "cell_type": "code",
   "execution_count": 188,
   "metadata": {},
   "outputs": [
    {
     "data": {
      "text/html": [
       "<div>\n",
       "<style scoped>\n",
       "    .dataframe tbody tr th:only-of-type {\n",
       "        vertical-align: middle;\n",
       "    }\n",
       "\n",
       "    .dataframe tbody tr th {\n",
       "        vertical-align: top;\n",
       "    }\n",
       "\n",
       "    .dataframe thead th {\n",
       "        text-align: right;\n",
       "    }\n",
       "</style>\n",
       "<table border=\"1\" class=\"dataframe\">\n",
       "  <thead>\n",
       "    <tr style=\"text-align: right;\">\n",
       "      <th></th>\n",
       "      <th>name</th>\n",
       "      <th>online_order</th>\n",
       "      <th>book_table</th>\n",
       "      <th>rate</th>\n",
       "      <th>votes</th>\n",
       "      <th>rest_type</th>\n",
       "      <th>cuisines</th>\n",
       "      <th>cost</th>\n",
       "      <th>type</th>\n",
       "      <th>city</th>\n",
       "    </tr>\n",
       "  </thead>\n",
       "  <tbody>\n",
       "    <tr>\n",
       "      <th>0</th>\n",
       "      <td>Jalsa</td>\n",
       "      <td>Yes</td>\n",
       "      <td>Yes</td>\n",
       "      <td>4.10</td>\n",
       "      <td>775</td>\n",
       "      <td>Casual Dining</td>\n",
       "      <td>[North Indian,  Mughlai,  Chinese]</td>\n",
       "      <td>800.00</td>\n",
       "      <td>Buffet</td>\n",
       "      <td>Banashankari</td>\n",
       "    </tr>\n",
       "    <tr>\n",
       "      <th>1</th>\n",
       "      <td>Spice Elephant</td>\n",
       "      <td>Yes</td>\n",
       "      <td>No</td>\n",
       "      <td>4.10</td>\n",
       "      <td>787</td>\n",
       "      <td>Casual Dining</td>\n",
       "      <td>[Chinese,  North Indian,  Thai]</td>\n",
       "      <td>800.00</td>\n",
       "      <td>Buffet</td>\n",
       "      <td>Banashankari</td>\n",
       "    </tr>\n",
       "    <tr>\n",
       "      <th>2</th>\n",
       "      <td>San Churro Cafe</td>\n",
       "      <td>Yes</td>\n",
       "      <td>No</td>\n",
       "      <td>3.80</td>\n",
       "      <td>918</td>\n",
       "      <td>Cafe, Casual Dining</td>\n",
       "      <td>[Cafe,  Mexican,  Italian]</td>\n",
       "      <td>800.00</td>\n",
       "      <td>Buffet</td>\n",
       "      <td>Banashankari</td>\n",
       "    </tr>\n",
       "    <tr>\n",
       "      <th>3</th>\n",
       "      <td>Addhuri Udupi Bhojana</td>\n",
       "      <td>No</td>\n",
       "      <td>No</td>\n",
       "      <td>3.70</td>\n",
       "      <td>88</td>\n",
       "      <td>Quick Bites</td>\n",
       "      <td>[South Indian,  North Indian]</td>\n",
       "      <td>300.00</td>\n",
       "      <td>Buffet</td>\n",
       "      <td>Banashankari</td>\n",
       "    </tr>\n",
       "    <tr>\n",
       "      <th>4</th>\n",
       "      <td>Grand Village</td>\n",
       "      <td>No</td>\n",
       "      <td>No</td>\n",
       "      <td>3.80</td>\n",
       "      <td>166</td>\n",
       "      <td>Casual Dining</td>\n",
       "      <td>[North Indian,  Rajasthani]</td>\n",
       "      <td>600.00</td>\n",
       "      <td>Buffet</td>\n",
       "      <td>Banashankari</td>\n",
       "    </tr>\n",
       "  </tbody>\n",
       "</table>\n",
       "</div>"
      ],
      "text/plain": [
       "                    name online_order book_table  rate  votes  \\\n",
       "0                  Jalsa          Yes        Yes  4.10    775   \n",
       "1         Spice Elephant          Yes         No  4.10    787   \n",
       "2        San Churro Cafe          Yes         No  3.80    918   \n",
       "3  Addhuri Udupi Bhojana           No         No  3.70     88   \n",
       "4          Grand Village           No         No  3.80    166   \n",
       "\n",
       "             rest_type                            cuisines   cost    type  \\\n",
       "0        Casual Dining  [North Indian,  Mughlai,  Chinese] 800.00  Buffet   \n",
       "1        Casual Dining     [Chinese,  North Indian,  Thai] 800.00  Buffet   \n",
       "2  Cafe, Casual Dining          [Cafe,  Mexican,  Italian] 800.00  Buffet   \n",
       "3          Quick Bites       [South Indian,  North Indian] 300.00  Buffet   \n",
       "4        Casual Dining         [North Indian,  Rajasthani] 600.00  Buffet   \n",
       "\n",
       "           city  \n",
       "0  Banashankari  \n",
       "1  Banashankari  \n",
       "2  Banashankari  \n",
       "3  Banashankari  \n",
       "4  Banashankari  "
      ]
     },
     "execution_count": 188,
     "metadata": {},
     "output_type": "execute_result"
    }
   ],
   "source": [
    "zomato_new.head()"
   ]
  },
  {
   "cell_type": "markdown",
   "metadata": {},
   "source": [
    "### dropping irrelevant columns like cuisines,name"
   ]
  },
  {
   "cell_type": "code",
   "execution_count": 189,
   "metadata": {},
   "outputs": [],
   "source": [
    "zomato_new.drop([\"cuisines\",\"name\"],axis=1,inplace=True)"
   ]
  },
  {
   "cell_type": "code",
   "execution_count": 190,
   "metadata": {},
   "outputs": [
    {
     "data": {
      "text/plain": [
       "online_order    0.00\n",
       "book_table      0.00\n",
       "rate           19.44\n",
       "votes           0.00\n",
       "rest_type       0.44\n",
       "cost            0.67\n",
       "type            8.43\n",
       "city            8.43\n",
       "dtype: float64"
      ]
     },
     "execution_count": 190,
     "metadata": {},
     "output_type": "execute_result"
    }
   ],
   "source": [
    "zomato_new.isnull().mean()*100"
   ]
  },
  {
   "cell_type": "code",
   "execution_count": 191,
   "metadata": {},
   "outputs": [],
   "source": [
    "zomato_new1=zomato_new.copy()"
   ]
  },
  {
   "cell_type": "code",
   "execution_count": 192,
   "metadata": {},
   "outputs": [
    {
     "data": {
      "text/html": [
       "<div>\n",
       "<style scoped>\n",
       "    .dataframe tbody tr th:only-of-type {\n",
       "        vertical-align: middle;\n",
       "    }\n",
       "\n",
       "    .dataframe tbody tr th {\n",
       "        vertical-align: top;\n",
       "    }\n",
       "\n",
       "    .dataframe thead th {\n",
       "        text-align: right;\n",
       "    }\n",
       "</style>\n",
       "<table border=\"1\" class=\"dataframe\">\n",
       "  <thead>\n",
       "    <tr style=\"text-align: right;\">\n",
       "      <th></th>\n",
       "      <th>online_order</th>\n",
       "      <th>book_table</th>\n",
       "      <th>rate</th>\n",
       "      <th>votes</th>\n",
       "      <th>rest_type</th>\n",
       "      <th>cost</th>\n",
       "      <th>type</th>\n",
       "      <th>city</th>\n",
       "    </tr>\n",
       "  </thead>\n",
       "  <tbody>\n",
       "    <tr>\n",
       "      <th>0</th>\n",
       "      <td>Yes</td>\n",
       "      <td>Yes</td>\n",
       "      <td>4.10</td>\n",
       "      <td>775</td>\n",
       "      <td>Casual Dining</td>\n",
       "      <td>800.00</td>\n",
       "      <td>Buffet</td>\n",
       "      <td>Banashankari</td>\n",
       "    </tr>\n",
       "    <tr>\n",
       "      <th>1</th>\n",
       "      <td>Yes</td>\n",
       "      <td>No</td>\n",
       "      <td>4.10</td>\n",
       "      <td>787</td>\n",
       "      <td>Casual Dining</td>\n",
       "      <td>800.00</td>\n",
       "      <td>Buffet</td>\n",
       "      <td>Banashankari</td>\n",
       "    </tr>\n",
       "    <tr>\n",
       "      <th>2</th>\n",
       "      <td>Yes</td>\n",
       "      <td>No</td>\n",
       "      <td>3.80</td>\n",
       "      <td>918</td>\n",
       "      <td>Cafe, Casual Dining</td>\n",
       "      <td>800.00</td>\n",
       "      <td>Buffet</td>\n",
       "      <td>Banashankari</td>\n",
       "    </tr>\n",
       "    <tr>\n",
       "      <th>3</th>\n",
       "      <td>No</td>\n",
       "      <td>No</td>\n",
       "      <td>3.70</td>\n",
       "      <td>88</td>\n",
       "      <td>Quick Bites</td>\n",
       "      <td>300.00</td>\n",
       "      <td>Buffet</td>\n",
       "      <td>Banashankari</td>\n",
       "    </tr>\n",
       "    <tr>\n",
       "      <th>4</th>\n",
       "      <td>No</td>\n",
       "      <td>No</td>\n",
       "      <td>3.80</td>\n",
       "      <td>166</td>\n",
       "      <td>Casual Dining</td>\n",
       "      <td>600.00</td>\n",
       "      <td>Buffet</td>\n",
       "      <td>Banashankari</td>\n",
       "    </tr>\n",
       "  </tbody>\n",
       "</table>\n",
       "</div>"
      ],
      "text/plain": [
       "  online_order book_table  rate  votes            rest_type   cost    type  \\\n",
       "0          Yes        Yes  4.10    775        Casual Dining 800.00  Buffet   \n",
       "1          Yes         No  4.10    787        Casual Dining 800.00  Buffet   \n",
       "2          Yes         No  3.80    918  Cafe, Casual Dining 800.00  Buffet   \n",
       "3           No         No  3.70     88          Quick Bites 300.00  Buffet   \n",
       "4           No         No  3.80    166        Casual Dining 600.00  Buffet   \n",
       "\n",
       "           city  \n",
       "0  Banashankari  \n",
       "1  Banashankari  \n",
       "2  Banashankari  \n",
       "3  Banashankari  \n",
       "4  Banashankari  "
      ]
     },
     "execution_count": 192,
     "metadata": {},
     "output_type": "execute_result"
    }
   ],
   "source": [
    "zomato_new1.head()"
   ]
  },
  {
   "cell_type": "code",
   "execution_count": 193,
   "metadata": {},
   "outputs": [],
   "source": [
    "from sklearn.impute import SimpleImputer\n",
    "from sklearn.impute import KNNImputer\n",
    "from sklearn.preprocessing import OneHotEncoder\n",
    "from sklearn.preprocessing import OrdinalEncoder"
   ]
  },
  {
   "cell_type": "code",
   "execution_count": 194,
   "metadata": {},
   "outputs": [],
   "source": [
    "from sklearn.compose import ColumnTransformer"
   ]
  },
  {
   "cell_type": "code",
   "execution_count": 195,
   "metadata": {},
   "outputs": [],
   "source": [
    "pipeline = ColumnTransformer(transformers=[\n",
    "    ('hmv',SimpleImputer(strategy=\"most_frequent\"),['rest_type',\"city\"]),\n",
    "    (\"knn\",KNNImputer(),[\"cost\",\"rate\"]),\n",
    "    #('oe',OrdinalEncoder(categories=[['poor','good',\"verygood\"]]),['rate']),\n",
    "    ('ohe',OneHotEncoder(sparse=False,drop='first'),[\"online_order\",\"book_table\"])\n",
    "],remainder='drop')\n"
   ]
  },
  {
   "cell_type": "code",
   "execution_count": 196,
   "metadata": {},
   "outputs": [
    {
     "data": {
      "text/html": [
       "<style>#sk-container-id-2 {color: black;background-color: white;}#sk-container-id-2 pre{padding: 0;}#sk-container-id-2 div.sk-toggleable {background-color: white;}#sk-container-id-2 label.sk-toggleable__label {cursor: pointer;display: block;width: 100%;margin-bottom: 0;padding: 0.3em;box-sizing: border-box;text-align: center;}#sk-container-id-2 label.sk-toggleable__label-arrow:before {content: \"▸\";float: left;margin-right: 0.25em;color: #696969;}#sk-container-id-2 label.sk-toggleable__label-arrow:hover:before {color: black;}#sk-container-id-2 div.sk-estimator:hover label.sk-toggleable__label-arrow:before {color: black;}#sk-container-id-2 div.sk-toggleable__content {max-height: 0;max-width: 0;overflow: hidden;text-align: left;background-color: #f0f8ff;}#sk-container-id-2 div.sk-toggleable__content pre {margin: 0.2em;color: black;border-radius: 0.25em;background-color: #f0f8ff;}#sk-container-id-2 input.sk-toggleable__control:checked~div.sk-toggleable__content {max-height: 200px;max-width: 100%;overflow: auto;}#sk-container-id-2 input.sk-toggleable__control:checked~label.sk-toggleable__label-arrow:before {content: \"▾\";}#sk-container-id-2 div.sk-estimator input.sk-toggleable__control:checked~label.sk-toggleable__label {background-color: #d4ebff;}#sk-container-id-2 div.sk-label input.sk-toggleable__control:checked~label.sk-toggleable__label {background-color: #d4ebff;}#sk-container-id-2 input.sk-hidden--visually {border: 0;clip: rect(1px 1px 1px 1px);clip: rect(1px, 1px, 1px, 1px);height: 1px;margin: -1px;overflow: hidden;padding: 0;position: absolute;width: 1px;}#sk-container-id-2 div.sk-estimator {font-family: monospace;background-color: #f0f8ff;border: 1px dotted black;border-radius: 0.25em;box-sizing: border-box;margin-bottom: 0.5em;}#sk-container-id-2 div.sk-estimator:hover {background-color: #d4ebff;}#sk-container-id-2 div.sk-parallel-item::after {content: \"\";width: 100%;border-bottom: 1px solid gray;flex-grow: 1;}#sk-container-id-2 div.sk-label:hover label.sk-toggleable__label {background-color: #d4ebff;}#sk-container-id-2 div.sk-serial::before {content: \"\";position: absolute;border-left: 1px solid gray;box-sizing: border-box;top: 0;bottom: 0;left: 50%;z-index: 0;}#sk-container-id-2 div.sk-serial {display: flex;flex-direction: column;align-items: center;background-color: white;padding-right: 0.2em;padding-left: 0.2em;position: relative;}#sk-container-id-2 div.sk-item {position: relative;z-index: 1;}#sk-container-id-2 div.sk-parallel {display: flex;align-items: stretch;justify-content: center;background-color: white;position: relative;}#sk-container-id-2 div.sk-item::before, #sk-container-id-2 div.sk-parallel-item::before {content: \"\";position: absolute;border-left: 1px solid gray;box-sizing: border-box;top: 0;bottom: 0;left: 50%;z-index: -1;}#sk-container-id-2 div.sk-parallel-item {display: flex;flex-direction: column;z-index: 1;position: relative;background-color: white;}#sk-container-id-2 div.sk-parallel-item:first-child::after {align-self: flex-end;width: 50%;}#sk-container-id-2 div.sk-parallel-item:last-child::after {align-self: flex-start;width: 50%;}#sk-container-id-2 div.sk-parallel-item:only-child::after {width: 0;}#sk-container-id-2 div.sk-dashed-wrapped {border: 1px dashed gray;margin: 0 0.4em 0.5em 0.4em;box-sizing: border-box;padding-bottom: 0.4em;background-color: white;}#sk-container-id-2 div.sk-label label {font-family: monospace;font-weight: bold;display: inline-block;line-height: 1.2em;}#sk-container-id-2 div.sk-label-container {text-align: center;}#sk-container-id-2 div.sk-container {/* jupyter's `normalize.less` sets `[hidden] { display: none; }` but bootstrap.min.css set `[hidden] { display: none !important; }` so we also need the `!important` here to be able to override the default hidden behavior on the sphinx rendered scikit-learn.org. See: https://github.com/scikit-learn/scikit-learn/issues/21755 */display: inline-block !important;position: relative;}#sk-container-id-2 div.sk-text-repr-fallback {display: none;}</style><div id=\"sk-container-id-2\" class=\"sk-top-container\"><div class=\"sk-text-repr-fallback\"><pre>ColumnTransformer(transformers=[(&#x27;hmv&#x27;, SimpleImputer(strategy=&#x27;most_frequent&#x27;),\n",
       "                                 [&#x27;rest_type&#x27;, &#x27;city&#x27;]),\n",
       "                                (&#x27;knn&#x27;, KNNImputer(), [&#x27;cost&#x27;, &#x27;rate&#x27;]),\n",
       "                                (&#x27;ohe&#x27;,\n",
       "                                 OneHotEncoder(drop=&#x27;first&#x27;, sparse=False),\n",
       "                                 [&#x27;online_order&#x27;, &#x27;book_table&#x27;])])</pre><b>In a Jupyter environment, please rerun this cell to show the HTML representation or trust the notebook. <br />On GitHub, the HTML representation is unable to render, please try loading this page with nbviewer.org.</b></div><div class=\"sk-container\" hidden><div class=\"sk-item sk-dashed-wrapped\"><div class=\"sk-label-container\"><div class=\"sk-label sk-toggleable\"><input class=\"sk-toggleable__control sk-hidden--visually\" id=\"sk-estimator-id-8\" type=\"checkbox\" ><label for=\"sk-estimator-id-8\" class=\"sk-toggleable__label sk-toggleable__label-arrow\">ColumnTransformer</label><div class=\"sk-toggleable__content\"><pre>ColumnTransformer(transformers=[(&#x27;hmv&#x27;, SimpleImputer(strategy=&#x27;most_frequent&#x27;),\n",
       "                                 [&#x27;rest_type&#x27;, &#x27;city&#x27;]),\n",
       "                                (&#x27;knn&#x27;, KNNImputer(), [&#x27;cost&#x27;, &#x27;rate&#x27;]),\n",
       "                                (&#x27;ohe&#x27;,\n",
       "                                 OneHotEncoder(drop=&#x27;first&#x27;, sparse=False),\n",
       "                                 [&#x27;online_order&#x27;, &#x27;book_table&#x27;])])</pre></div></div></div><div class=\"sk-parallel\"><div class=\"sk-parallel-item\"><div class=\"sk-item\"><div class=\"sk-label-container\"><div class=\"sk-label sk-toggleable\"><input class=\"sk-toggleable__control sk-hidden--visually\" id=\"sk-estimator-id-9\" type=\"checkbox\" ><label for=\"sk-estimator-id-9\" class=\"sk-toggleable__label sk-toggleable__label-arrow\">hmv</label><div class=\"sk-toggleable__content\"><pre>[&#x27;rest_type&#x27;, &#x27;city&#x27;]</pre></div></div></div><div class=\"sk-serial\"><div class=\"sk-item\"><div class=\"sk-estimator sk-toggleable\"><input class=\"sk-toggleable__control sk-hidden--visually\" id=\"sk-estimator-id-10\" type=\"checkbox\" ><label for=\"sk-estimator-id-10\" class=\"sk-toggleable__label sk-toggleable__label-arrow\">SimpleImputer</label><div class=\"sk-toggleable__content\"><pre>SimpleImputer(strategy=&#x27;most_frequent&#x27;)</pre></div></div></div></div></div></div><div class=\"sk-parallel-item\"><div class=\"sk-item\"><div class=\"sk-label-container\"><div class=\"sk-label sk-toggleable\"><input class=\"sk-toggleable__control sk-hidden--visually\" id=\"sk-estimator-id-11\" type=\"checkbox\" ><label for=\"sk-estimator-id-11\" class=\"sk-toggleable__label sk-toggleable__label-arrow\">knn</label><div class=\"sk-toggleable__content\"><pre>[&#x27;cost&#x27;, &#x27;rate&#x27;]</pre></div></div></div><div class=\"sk-serial\"><div class=\"sk-item\"><div class=\"sk-estimator sk-toggleable\"><input class=\"sk-toggleable__control sk-hidden--visually\" id=\"sk-estimator-id-12\" type=\"checkbox\" ><label for=\"sk-estimator-id-12\" class=\"sk-toggleable__label sk-toggleable__label-arrow\">KNNImputer</label><div class=\"sk-toggleable__content\"><pre>KNNImputer()</pre></div></div></div></div></div></div><div class=\"sk-parallel-item\"><div class=\"sk-item\"><div class=\"sk-label-container\"><div class=\"sk-label sk-toggleable\"><input class=\"sk-toggleable__control sk-hidden--visually\" id=\"sk-estimator-id-13\" type=\"checkbox\" ><label for=\"sk-estimator-id-13\" class=\"sk-toggleable__label sk-toggleable__label-arrow\">ohe</label><div class=\"sk-toggleable__content\"><pre>[&#x27;online_order&#x27;, &#x27;book_table&#x27;]</pre></div></div></div><div class=\"sk-serial\"><div class=\"sk-item\"><div class=\"sk-estimator sk-toggleable\"><input class=\"sk-toggleable__control sk-hidden--visually\" id=\"sk-estimator-id-14\" type=\"checkbox\" ><label for=\"sk-estimator-id-14\" class=\"sk-toggleable__label sk-toggleable__label-arrow\">OneHotEncoder</label><div class=\"sk-toggleable__content\"><pre>OneHotEncoder(drop=&#x27;first&#x27;, sparse=False)</pre></div></div></div></div></div></div></div></div></div></div>"
      ],
      "text/plain": [
       "ColumnTransformer(transformers=[('hmv', SimpleImputer(strategy='most_frequent'),\n",
       "                                 ['rest_type', 'city']),\n",
       "                                ('knn', KNNImputer(), ['cost', 'rate']),\n",
       "                                ('ohe',\n",
       "                                 OneHotEncoder(drop='first', sparse=False),\n",
       "                                 ['online_order', 'book_table'])])"
      ]
     },
     "execution_count": 196,
     "metadata": {},
     "output_type": "execute_result"
    }
   ],
   "source": [
    "pipeline"
   ]
  },
  {
   "cell_type": "code",
   "execution_count": 197,
   "metadata": {},
   "outputs": [],
   "source": [
    "zomato_new2=pipeline.fit_transform(zomato_new1)"
   ]
  },
  {
   "cell_type": "code",
   "execution_count": 198,
   "metadata": {},
   "outputs": [
    {
     "data": {
      "text/plain": [
       "array([['Casual Dining', 'Banashankari', 800.0, 4.1, 1.0, 1.0],\n",
       "       ['Casual Dining', 'Banashankari', 800.0, 4.1, 1.0, 0.0],\n",
       "       ['Cafe, Casual Dining', 'Banashankari', 800.0, 3.8, 1.0, 0.0],\n",
       "       ...,\n",
       "       ['Bar', 'Whitefield', 2000.0, 4.1, 0.0, 0.0],\n",
       "       ['Bar', 'Whitefield', 2500.0, 4.3, 0.0, 1.0],\n",
       "       ['Bar, Casual Dining', 'Whitefield', 1500.0, 3.4, 0.0, 0.0]],\n",
       "      dtype=object)"
      ]
     },
     "execution_count": 198,
     "metadata": {},
     "output_type": "execute_result"
    }
   ],
   "source": [
    "zomato_new2"
   ]
  },
  {
   "cell_type": "code",
   "execution_count": 199,
   "metadata": {},
   "outputs": [],
   "source": [
    "zomato_new3=pd.DataFrame(zomato_new2,columns=['rest_type', 'city',\"cost\",\"rate\",'online_order','book_table'])"
   ]
  },
  {
   "cell_type": "code",
   "execution_count": 200,
   "metadata": {},
   "outputs": [
    {
     "data": {
      "text/html": [
       "<div>\n",
       "<style scoped>\n",
       "    .dataframe tbody tr th:only-of-type {\n",
       "        vertical-align: middle;\n",
       "    }\n",
       "\n",
       "    .dataframe tbody tr th {\n",
       "        vertical-align: top;\n",
       "    }\n",
       "\n",
       "    .dataframe thead th {\n",
       "        text-align: right;\n",
       "    }\n",
       "</style>\n",
       "<table border=\"1\" class=\"dataframe\">\n",
       "  <thead>\n",
       "    <tr style=\"text-align: right;\">\n",
       "      <th></th>\n",
       "      <th>rest_type</th>\n",
       "      <th>city</th>\n",
       "      <th>cost</th>\n",
       "      <th>rate</th>\n",
       "      <th>online_order</th>\n",
       "      <th>book_table</th>\n",
       "    </tr>\n",
       "  </thead>\n",
       "  <tbody>\n",
       "    <tr>\n",
       "      <th>0</th>\n",
       "      <td>Casual Dining</td>\n",
       "      <td>Banashankari</td>\n",
       "      <td>800.00</td>\n",
       "      <td>4.10</td>\n",
       "      <td>1.00</td>\n",
       "      <td>1.00</td>\n",
       "    </tr>\n",
       "    <tr>\n",
       "      <th>1</th>\n",
       "      <td>Casual Dining</td>\n",
       "      <td>Banashankari</td>\n",
       "      <td>800.00</td>\n",
       "      <td>4.10</td>\n",
       "      <td>1.00</td>\n",
       "      <td>0.00</td>\n",
       "    </tr>\n",
       "    <tr>\n",
       "      <th>2</th>\n",
       "      <td>Cafe, Casual Dining</td>\n",
       "      <td>Banashankari</td>\n",
       "      <td>800.00</td>\n",
       "      <td>3.80</td>\n",
       "      <td>1.00</td>\n",
       "      <td>0.00</td>\n",
       "    </tr>\n",
       "    <tr>\n",
       "      <th>3</th>\n",
       "      <td>Quick Bites</td>\n",
       "      <td>Banashankari</td>\n",
       "      <td>300.00</td>\n",
       "      <td>3.70</td>\n",
       "      <td>0.00</td>\n",
       "      <td>0.00</td>\n",
       "    </tr>\n",
       "    <tr>\n",
       "      <th>4</th>\n",
       "      <td>Casual Dining</td>\n",
       "      <td>Banashankari</td>\n",
       "      <td>600.00</td>\n",
       "      <td>3.80</td>\n",
       "      <td>0.00</td>\n",
       "      <td>0.00</td>\n",
       "    </tr>\n",
       "  </tbody>\n",
       "</table>\n",
       "</div>"
      ],
      "text/plain": [
       "             rest_type          city   cost rate online_order book_table\n",
       "0        Casual Dining  Banashankari 800.00 4.10         1.00       1.00\n",
       "1        Casual Dining  Banashankari 800.00 4.10         1.00       0.00\n",
       "2  Cafe, Casual Dining  Banashankari 800.00 3.80         1.00       0.00\n",
       "3          Quick Bites  Banashankari 300.00 3.70         0.00       0.00\n",
       "4        Casual Dining  Banashankari 600.00 3.80         0.00       0.00"
      ]
     },
     "execution_count": 200,
     "metadata": {},
     "output_type": "execute_result"
    }
   ],
   "source": [
    "zomato_new3.head()"
   ]
  },
  {
   "cell_type": "code",
   "execution_count": 201,
   "metadata": {},
   "outputs": [
    {
     "data": {
      "text/plain": [
       "rest_type       0\n",
       "city            0\n",
       "cost            0\n",
       "rate            0\n",
       "online_order    0\n",
       "book_table      0\n",
       "dtype: int64"
      ]
     },
     "execution_count": 201,
     "metadata": {},
     "output_type": "execute_result"
    }
   ],
   "source": [
    "zomato_new3.isnull().sum()"
   ]
  },
  {
   "cell_type": "code",
   "execution_count": 202,
   "metadata": {},
   "outputs": [],
   "source": [
    "zomato_new3=pd.concat([zomato_new3,zomato_new1[\"votes\"]],axis=1)"
   ]
  },
  {
   "cell_type": "code",
   "execution_count": 203,
   "metadata": {},
   "outputs": [
    {
     "data": {
      "text/html": [
       "<div>\n",
       "<style scoped>\n",
       "    .dataframe tbody tr th:only-of-type {\n",
       "        vertical-align: middle;\n",
       "    }\n",
       "\n",
       "    .dataframe tbody tr th {\n",
       "        vertical-align: top;\n",
       "    }\n",
       "\n",
       "    .dataframe thead th {\n",
       "        text-align: right;\n",
       "    }\n",
       "</style>\n",
       "<table border=\"1\" class=\"dataframe\">\n",
       "  <thead>\n",
       "    <tr style=\"text-align: right;\">\n",
       "      <th></th>\n",
       "      <th>rest_type</th>\n",
       "      <th>city</th>\n",
       "      <th>cost</th>\n",
       "      <th>rate</th>\n",
       "      <th>online_order</th>\n",
       "      <th>book_table</th>\n",
       "      <th>votes</th>\n",
       "    </tr>\n",
       "  </thead>\n",
       "  <tbody>\n",
       "    <tr>\n",
       "      <th>0</th>\n",
       "      <td>Casual Dining</td>\n",
       "      <td>Banashankari</td>\n",
       "      <td>800.00</td>\n",
       "      <td>4.10</td>\n",
       "      <td>1.00</td>\n",
       "      <td>1.00</td>\n",
       "      <td>775</td>\n",
       "    </tr>\n",
       "    <tr>\n",
       "      <th>1</th>\n",
       "      <td>Casual Dining</td>\n",
       "      <td>Banashankari</td>\n",
       "      <td>800.00</td>\n",
       "      <td>4.10</td>\n",
       "      <td>1.00</td>\n",
       "      <td>0.00</td>\n",
       "      <td>787</td>\n",
       "    </tr>\n",
       "    <tr>\n",
       "      <th>2</th>\n",
       "      <td>Cafe, Casual Dining</td>\n",
       "      <td>Banashankari</td>\n",
       "      <td>800.00</td>\n",
       "      <td>3.80</td>\n",
       "      <td>1.00</td>\n",
       "      <td>0.00</td>\n",
       "      <td>918</td>\n",
       "    </tr>\n",
       "    <tr>\n",
       "      <th>3</th>\n",
       "      <td>Quick Bites</td>\n",
       "      <td>Banashankari</td>\n",
       "      <td>300.00</td>\n",
       "      <td>3.70</td>\n",
       "      <td>0.00</td>\n",
       "      <td>0.00</td>\n",
       "      <td>88</td>\n",
       "    </tr>\n",
       "    <tr>\n",
       "      <th>4</th>\n",
       "      <td>Casual Dining</td>\n",
       "      <td>Banashankari</td>\n",
       "      <td>600.00</td>\n",
       "      <td>3.80</td>\n",
       "      <td>0.00</td>\n",
       "      <td>0.00</td>\n",
       "      <td>166</td>\n",
       "    </tr>\n",
       "  </tbody>\n",
       "</table>\n",
       "</div>"
      ],
      "text/plain": [
       "             rest_type          city   cost rate online_order book_table  \\\n",
       "0        Casual Dining  Banashankari 800.00 4.10         1.00       1.00   \n",
       "1        Casual Dining  Banashankari 800.00 4.10         1.00       0.00   \n",
       "2  Cafe, Casual Dining  Banashankari 800.00 3.80         1.00       0.00   \n",
       "3          Quick Bites  Banashankari 300.00 3.70         0.00       0.00   \n",
       "4        Casual Dining  Banashankari 600.00 3.80         0.00       0.00   \n",
       "\n",
       "   votes  \n",
       "0    775  \n",
       "1    787  \n",
       "2    918  \n",
       "3     88  \n",
       "4    166  "
      ]
     },
     "execution_count": 203,
     "metadata": {},
     "output_type": "execute_result"
    }
   ],
   "source": [
    "zomato_new3.head()"
   ]
  },
  {
   "cell_type": "markdown",
   "metadata": {},
   "source": [
    "# Frequency Encoding for rest_type and city"
   ]
  },
  {
   "cell_type": "code",
   "execution_count": 204,
   "metadata": {},
   "outputs": [
    {
     "data": {
      "text/plain": [
       "BTM                      7423\n",
       "Koramangala 7th Block    2664\n",
       "Koramangala 5th Block    2544\n",
       "Koramangala 4th Block    2530\n",
       "Koramangala 6th Block    2323\n",
       "Jayanagar                2225\n",
       "JP Nagar                 1946\n",
       "Indiranagar              1713\n",
       "Church Street            1655\n",
       "HSR                      1599\n",
       "Brigade Road             1577\n",
       "Bannerghatta Road        1547\n",
       "Lavelle Road             1528\n",
       "MG Road                  1525\n",
       "Marathahalli             1509\n",
       "Whitefield               1497\n",
       "Brookefield              1437\n",
       "Residency Road           1392\n",
       "Old Airport Road         1256\n",
       "Kalyan Nagar             1237\n",
       "Basavanagudi             1222\n",
       "Kammanahalli             1220\n",
       "Electronic City          1190\n",
       "Sarjapur Road            1151\n",
       "Bellandur                1141\n",
       "Frazer Town              1113\n",
       "Malleshwaram             1025\n",
       "Rajajinagar               996\n",
       "Banashankari              836\n",
       "New BEL Road              696\n",
       "Name: city, dtype: int64"
      ]
     },
     "execution_count": 204,
     "metadata": {},
     "output_type": "execute_result"
    }
   ],
   "source": [
    "zomato_new3[\"city\"].value_counts()"
   ]
  },
  {
   "cell_type": "code",
   "execution_count": 205,
   "metadata": {},
   "outputs": [],
   "source": [
    "top5_city=[i for i in zomato_new3[\"city\"].value_counts().head(5).index]"
   ]
  },
  {
   "cell_type": "code",
   "execution_count": 206,
   "metadata": {},
   "outputs": [
    {
     "data": {
      "text/plain": [
       "['BTM',\n",
       " 'Koramangala 7th Block',\n",
       " 'Koramangala 5th Block',\n",
       " 'Koramangala 4th Block',\n",
       " 'Koramangala 6th Block']"
      ]
     },
     "execution_count": 206,
     "metadata": {},
     "output_type": "execute_result"
    }
   ],
   "source": [
    "top5_city"
   ]
  },
  {
   "cell_type": "code",
   "execution_count": 207,
   "metadata": {},
   "outputs": [],
   "source": [
    "for i in top5_city:\n",
    "    zomato_new3[i]=np.where(zomato_new3[\"city\"]==i,1,0)"
   ]
  },
  {
   "cell_type": "code",
   "execution_count": 208,
   "metadata": {},
   "outputs": [
    {
     "data": {
      "text/html": [
       "<div>\n",
       "<style scoped>\n",
       "    .dataframe tbody tr th:only-of-type {\n",
       "        vertical-align: middle;\n",
       "    }\n",
       "\n",
       "    .dataframe tbody tr th {\n",
       "        vertical-align: top;\n",
       "    }\n",
       "\n",
       "    .dataframe thead th {\n",
       "        text-align: right;\n",
       "    }\n",
       "</style>\n",
       "<table border=\"1\" class=\"dataframe\">\n",
       "  <thead>\n",
       "    <tr style=\"text-align: right;\">\n",
       "      <th></th>\n",
       "      <th>rest_type</th>\n",
       "      <th>city</th>\n",
       "      <th>cost</th>\n",
       "      <th>rate</th>\n",
       "      <th>online_order</th>\n",
       "      <th>book_table</th>\n",
       "      <th>votes</th>\n",
       "      <th>BTM</th>\n",
       "      <th>Koramangala 7th Block</th>\n",
       "      <th>Koramangala 5th Block</th>\n",
       "      <th>Koramangala 4th Block</th>\n",
       "      <th>Koramangala 6th Block</th>\n",
       "    </tr>\n",
       "  </thead>\n",
       "  <tbody>\n",
       "    <tr>\n",
       "      <th>0</th>\n",
       "      <td>Casual Dining</td>\n",
       "      <td>Banashankari</td>\n",
       "      <td>800.00</td>\n",
       "      <td>4.10</td>\n",
       "      <td>1.00</td>\n",
       "      <td>1.00</td>\n",
       "      <td>775</td>\n",
       "      <td>0</td>\n",
       "      <td>0</td>\n",
       "      <td>0</td>\n",
       "      <td>0</td>\n",
       "      <td>0</td>\n",
       "    </tr>\n",
       "    <tr>\n",
       "      <th>1</th>\n",
       "      <td>Casual Dining</td>\n",
       "      <td>Banashankari</td>\n",
       "      <td>800.00</td>\n",
       "      <td>4.10</td>\n",
       "      <td>1.00</td>\n",
       "      <td>0.00</td>\n",
       "      <td>787</td>\n",
       "      <td>0</td>\n",
       "      <td>0</td>\n",
       "      <td>0</td>\n",
       "      <td>0</td>\n",
       "      <td>0</td>\n",
       "    </tr>\n",
       "    <tr>\n",
       "      <th>2</th>\n",
       "      <td>Cafe, Casual Dining</td>\n",
       "      <td>Banashankari</td>\n",
       "      <td>800.00</td>\n",
       "      <td>3.80</td>\n",
       "      <td>1.00</td>\n",
       "      <td>0.00</td>\n",
       "      <td>918</td>\n",
       "      <td>0</td>\n",
       "      <td>0</td>\n",
       "      <td>0</td>\n",
       "      <td>0</td>\n",
       "      <td>0</td>\n",
       "    </tr>\n",
       "    <tr>\n",
       "      <th>3</th>\n",
       "      <td>Quick Bites</td>\n",
       "      <td>Banashankari</td>\n",
       "      <td>300.00</td>\n",
       "      <td>3.70</td>\n",
       "      <td>0.00</td>\n",
       "      <td>0.00</td>\n",
       "      <td>88</td>\n",
       "      <td>0</td>\n",
       "      <td>0</td>\n",
       "      <td>0</td>\n",
       "      <td>0</td>\n",
       "      <td>0</td>\n",
       "    </tr>\n",
       "    <tr>\n",
       "      <th>4</th>\n",
       "      <td>Casual Dining</td>\n",
       "      <td>Banashankari</td>\n",
       "      <td>600.00</td>\n",
       "      <td>3.80</td>\n",
       "      <td>0.00</td>\n",
       "      <td>0.00</td>\n",
       "      <td>166</td>\n",
       "      <td>0</td>\n",
       "      <td>0</td>\n",
       "      <td>0</td>\n",
       "      <td>0</td>\n",
       "      <td>0</td>\n",
       "    </tr>\n",
       "  </tbody>\n",
       "</table>\n",
       "</div>"
      ],
      "text/plain": [
       "             rest_type          city   cost rate online_order book_table  \\\n",
       "0        Casual Dining  Banashankari 800.00 4.10         1.00       1.00   \n",
       "1        Casual Dining  Banashankari 800.00 4.10         1.00       0.00   \n",
       "2  Cafe, Casual Dining  Banashankari 800.00 3.80         1.00       0.00   \n",
       "3          Quick Bites  Banashankari 300.00 3.70         0.00       0.00   \n",
       "4        Casual Dining  Banashankari 600.00 3.80         0.00       0.00   \n",
       "\n",
       "   votes  BTM  Koramangala 7th Block  Koramangala 5th Block  \\\n",
       "0    775    0                      0                      0   \n",
       "1    787    0                      0                      0   \n",
       "2    918    0                      0                      0   \n",
       "3     88    0                      0                      0   \n",
       "4    166    0                      0                      0   \n",
       "\n",
       "   Koramangala 4th Block  Koramangala 6th Block  \n",
       "0                      0                      0  \n",
       "1                      0                      0  \n",
       "2                      0                      0  \n",
       "3                      0                      0  \n",
       "4                      0                      0  "
      ]
     },
     "execution_count": 208,
     "metadata": {},
     "output_type": "execute_result"
    }
   ],
   "source": [
    "zomato_new3.head()"
   ]
  },
  {
   "cell_type": "code",
   "execution_count": 209,
   "metadata": {},
   "outputs": [],
   "source": [
    "pd.set_option(\"display.max_rows\",None)"
   ]
  },
  {
   "cell_type": "code",
   "execution_count": 210,
   "metadata": {},
   "outputs": [],
   "source": [
    "top5_restype=[i for i in zomato_new3[\"rest_type\"].value_counts().head(5).index]"
   ]
  },
  {
   "cell_type": "code",
   "execution_count": 211,
   "metadata": {},
   "outputs": [
    {
     "data": {
      "text/plain": [
       "['Quick Bites', 'Casual Dining', 'Cafe', 'Delivery', 'Dessert Parlor']"
      ]
     },
     "execution_count": 211,
     "metadata": {},
     "output_type": "execute_result"
    }
   ],
   "source": [
    "top5_restype"
   ]
  },
  {
   "cell_type": "code",
   "execution_count": 212,
   "metadata": {},
   "outputs": [],
   "source": [
    "for i in top5_restype:\n",
    "    zomato_new3[i]=np.where(zomato_new3[\"rest_type\"]==i,1,0)"
   ]
  },
  {
   "cell_type": "code",
   "execution_count": 213,
   "metadata": {},
   "outputs": [
    {
     "name": "stdout",
     "output_type": "stream",
     "text": [
      "<class 'pandas.core.frame.DataFrame'>\n",
      "RangeIndex: 51717 entries, 0 to 51716\n",
      "Data columns (total 17 columns):\n",
      " #   Column                 Non-Null Count  Dtype \n",
      "---  ------                 --------------  ----- \n",
      " 0   rest_type              51717 non-null  object\n",
      " 1   city                   51717 non-null  object\n",
      " 2   cost                   51717 non-null  object\n",
      " 3   rate                   51717 non-null  object\n",
      " 4   online_order           51717 non-null  object\n",
      " 5   book_table             51717 non-null  object\n",
      " 6   votes                  51717 non-null  int32 \n",
      " 7   BTM                    51717 non-null  int32 \n",
      " 8   Koramangala 7th Block  51717 non-null  int32 \n",
      " 9   Koramangala 5th Block  51717 non-null  int32 \n",
      " 10  Koramangala 4th Block  51717 non-null  int32 \n",
      " 11  Koramangala 6th Block  51717 non-null  int32 \n",
      " 12  Quick Bites            51717 non-null  int32 \n",
      " 13  Casual Dining          51717 non-null  int32 \n",
      " 14  Cafe                   51717 non-null  int32 \n",
      " 15  Delivery               51717 non-null  int32 \n",
      " 16  Dessert Parlor         51717 non-null  int32 \n",
      "dtypes: int32(11), object(6)\n",
      "memory usage: 4.5+ MB\n"
     ]
    }
   ],
   "source": [
    "zomato_new3.info()"
   ]
  },
  {
   "cell_type": "code",
   "execution_count": 214,
   "metadata": {},
   "outputs": [
    {
     "data": {
      "text/html": [
       "<div>\n",
       "<style scoped>\n",
       "    .dataframe tbody tr th:only-of-type {\n",
       "        vertical-align: middle;\n",
       "    }\n",
       "\n",
       "    .dataframe tbody tr th {\n",
       "        vertical-align: top;\n",
       "    }\n",
       "\n",
       "    .dataframe thead th {\n",
       "        text-align: right;\n",
       "    }\n",
       "</style>\n",
       "<table border=\"1\" class=\"dataframe\">\n",
       "  <thead>\n",
       "    <tr style=\"text-align: right;\">\n",
       "      <th></th>\n",
       "      <th>rest_type</th>\n",
       "      <th>city</th>\n",
       "      <th>cost</th>\n",
       "      <th>rate</th>\n",
       "      <th>online_order</th>\n",
       "      <th>book_table</th>\n",
       "      <th>votes</th>\n",
       "      <th>BTM</th>\n",
       "      <th>Koramangala 7th Block</th>\n",
       "      <th>Koramangala 5th Block</th>\n",
       "      <th>Koramangala 4th Block</th>\n",
       "      <th>Koramangala 6th Block</th>\n",
       "      <th>Quick Bites</th>\n",
       "      <th>Casual Dining</th>\n",
       "      <th>Cafe</th>\n",
       "      <th>Delivery</th>\n",
       "      <th>Dessert Parlor</th>\n",
       "    </tr>\n",
       "  </thead>\n",
       "  <tbody>\n",
       "    <tr>\n",
       "      <th>0</th>\n",
       "      <td>Casual Dining</td>\n",
       "      <td>Banashankari</td>\n",
       "      <td>800.00</td>\n",
       "      <td>4.10</td>\n",
       "      <td>1.00</td>\n",
       "      <td>1.00</td>\n",
       "      <td>775</td>\n",
       "      <td>0</td>\n",
       "      <td>0</td>\n",
       "      <td>0</td>\n",
       "      <td>0</td>\n",
       "      <td>0</td>\n",
       "      <td>0</td>\n",
       "      <td>1</td>\n",
       "      <td>0</td>\n",
       "      <td>0</td>\n",
       "      <td>0</td>\n",
       "    </tr>\n",
       "    <tr>\n",
       "      <th>1</th>\n",
       "      <td>Casual Dining</td>\n",
       "      <td>Banashankari</td>\n",
       "      <td>800.00</td>\n",
       "      <td>4.10</td>\n",
       "      <td>1.00</td>\n",
       "      <td>0.00</td>\n",
       "      <td>787</td>\n",
       "      <td>0</td>\n",
       "      <td>0</td>\n",
       "      <td>0</td>\n",
       "      <td>0</td>\n",
       "      <td>0</td>\n",
       "      <td>0</td>\n",
       "      <td>1</td>\n",
       "      <td>0</td>\n",
       "      <td>0</td>\n",
       "      <td>0</td>\n",
       "    </tr>\n",
       "    <tr>\n",
       "      <th>2</th>\n",
       "      <td>Cafe, Casual Dining</td>\n",
       "      <td>Banashankari</td>\n",
       "      <td>800.00</td>\n",
       "      <td>3.80</td>\n",
       "      <td>1.00</td>\n",
       "      <td>0.00</td>\n",
       "      <td>918</td>\n",
       "      <td>0</td>\n",
       "      <td>0</td>\n",
       "      <td>0</td>\n",
       "      <td>0</td>\n",
       "      <td>0</td>\n",
       "      <td>0</td>\n",
       "      <td>0</td>\n",
       "      <td>0</td>\n",
       "      <td>0</td>\n",
       "      <td>0</td>\n",
       "    </tr>\n",
       "    <tr>\n",
       "      <th>3</th>\n",
       "      <td>Quick Bites</td>\n",
       "      <td>Banashankari</td>\n",
       "      <td>300.00</td>\n",
       "      <td>3.70</td>\n",
       "      <td>0.00</td>\n",
       "      <td>0.00</td>\n",
       "      <td>88</td>\n",
       "      <td>0</td>\n",
       "      <td>0</td>\n",
       "      <td>0</td>\n",
       "      <td>0</td>\n",
       "      <td>0</td>\n",
       "      <td>1</td>\n",
       "      <td>0</td>\n",
       "      <td>0</td>\n",
       "      <td>0</td>\n",
       "      <td>0</td>\n",
       "    </tr>\n",
       "    <tr>\n",
       "      <th>4</th>\n",
       "      <td>Casual Dining</td>\n",
       "      <td>Banashankari</td>\n",
       "      <td>600.00</td>\n",
       "      <td>3.80</td>\n",
       "      <td>0.00</td>\n",
       "      <td>0.00</td>\n",
       "      <td>166</td>\n",
       "      <td>0</td>\n",
       "      <td>0</td>\n",
       "      <td>0</td>\n",
       "      <td>0</td>\n",
       "      <td>0</td>\n",
       "      <td>0</td>\n",
       "      <td>1</td>\n",
       "      <td>0</td>\n",
       "      <td>0</td>\n",
       "      <td>0</td>\n",
       "    </tr>\n",
       "  </tbody>\n",
       "</table>\n",
       "</div>"
      ],
      "text/plain": [
       "             rest_type          city   cost rate online_order book_table  \\\n",
       "0        Casual Dining  Banashankari 800.00 4.10         1.00       1.00   \n",
       "1        Casual Dining  Banashankari 800.00 4.10         1.00       0.00   \n",
       "2  Cafe, Casual Dining  Banashankari 800.00 3.80         1.00       0.00   \n",
       "3          Quick Bites  Banashankari 300.00 3.70         0.00       0.00   \n",
       "4        Casual Dining  Banashankari 600.00 3.80         0.00       0.00   \n",
       "\n",
       "   votes  BTM  Koramangala 7th Block  Koramangala 5th Block  \\\n",
       "0    775    0                      0                      0   \n",
       "1    787    0                      0                      0   \n",
       "2    918    0                      0                      0   \n",
       "3     88    0                      0                      0   \n",
       "4    166    0                      0                      0   \n",
       "\n",
       "   Koramangala 4th Block  Koramangala 6th Block  Quick Bites  Casual Dining  \\\n",
       "0                      0                      0            0              1   \n",
       "1                      0                      0            0              1   \n",
       "2                      0                      0            0              0   \n",
       "3                      0                      0            1              0   \n",
       "4                      0                      0            0              1   \n",
       "\n",
       "   Cafe  Delivery  Dessert Parlor  \n",
       "0     0         0               0  \n",
       "1     0         0               0  \n",
       "2     0         0               0  \n",
       "3     0         0               0  \n",
       "4     0         0               0  "
      ]
     },
     "execution_count": 214,
     "metadata": {},
     "output_type": "execute_result"
    }
   ],
   "source": [
    "zomato_new3.head()"
   ]
  },
  {
   "cell_type": "code",
   "execution_count": 215,
   "metadata": {},
   "outputs": [
    {
     "data": {
      "text/plain": [
       "Index(['rest_type', 'city', 'cost', 'rate', 'online_order', 'book_table',\n",
       "       'votes', 'BTM', 'Koramangala 7th Block', 'Koramangala 5th Block',\n",
       "       'Koramangala 4th Block', 'Koramangala 6th Block', 'Quick Bites',\n",
       "       'Casual Dining', 'Cafe', 'Delivery', 'Dessert Parlor'],\n",
       "      dtype='object')"
      ]
     },
     "execution_count": 215,
     "metadata": {},
     "output_type": "execute_result"
    }
   ],
   "source": [
    "zomato_new3.columns "
   ]
  },
  {
   "cell_type": "code",
   "execution_count": 216,
   "metadata": {},
   "outputs": [],
   "source": [
    "zomato_new3.drop([\"rest_type\",\"city\"],axis=1,inplace=True)"
   ]
  },
  {
   "cell_type": "code",
   "execution_count": 217,
   "metadata": {},
   "outputs": [
    {
     "name": "stdout",
     "output_type": "stream",
     "text": [
      "<class 'pandas.core.frame.DataFrame'>\n",
      "RangeIndex: 51717 entries, 0 to 51716\n",
      "Data columns (total 15 columns):\n",
      " #   Column                 Non-Null Count  Dtype \n",
      "---  ------                 --------------  ----- \n",
      " 0   cost                   51717 non-null  object\n",
      " 1   rate                   51717 non-null  object\n",
      " 2   online_order           51717 non-null  object\n",
      " 3   book_table             51717 non-null  object\n",
      " 4   votes                  51717 non-null  int32 \n",
      " 5   BTM                    51717 non-null  int32 \n",
      " 6   Koramangala 7th Block  51717 non-null  int32 \n",
      " 7   Koramangala 5th Block  51717 non-null  int32 \n",
      " 8   Koramangala 4th Block  51717 non-null  int32 \n",
      " 9   Koramangala 6th Block  51717 non-null  int32 \n",
      " 10  Quick Bites            51717 non-null  int32 \n",
      " 11  Casual Dining          51717 non-null  int32 \n",
      " 12  Cafe                   51717 non-null  int32 \n",
      " 13  Delivery               51717 non-null  int32 \n",
      " 14  Dessert Parlor         51717 non-null  int32 \n",
      "dtypes: int32(11), object(4)\n",
      "memory usage: 3.7+ MB\n"
     ]
    }
   ],
   "source": [
    "zomato_new3.info()"
   ]
  },
  {
   "cell_type": "code",
   "execution_count": 218,
   "metadata": {},
   "outputs": [],
   "source": [
    "zomato_new3[\"cost\"]=zomato_new3[\"cost\"].astype(\"float\")\n",
    "zomato_new3[\"rate\"]=zomato_new3[\"rate\"].astype(\"float\")\n",
    "\n",
    "zomato_new3[\"online_order\"]=zomato_new3[\"online_order\"].astype(\"int\")\n",
    "zomato_new3[\"book_table\"]=zomato_new3[\"book_table\"].astype(\"int\")\n",
    "\n",
    "\n"
   ]
  },
  {
   "cell_type": "code",
   "execution_count": 219,
   "metadata": {},
   "outputs": [
    {
     "name": "stdout",
     "output_type": "stream",
     "text": [
      "<class 'pandas.core.frame.DataFrame'>\n",
      "RangeIndex: 51717 entries, 0 to 51716\n",
      "Data columns (total 15 columns):\n",
      " #   Column                 Non-Null Count  Dtype  \n",
      "---  ------                 --------------  -----  \n",
      " 0   cost                   51717 non-null  float64\n",
      " 1   rate                   51717 non-null  float64\n",
      " 2   online_order           51717 non-null  int32  \n",
      " 3   book_table             51717 non-null  int32  \n",
      " 4   votes                  51717 non-null  int32  \n",
      " 5   BTM                    51717 non-null  int32  \n",
      " 6   Koramangala 7th Block  51717 non-null  int32  \n",
      " 7   Koramangala 5th Block  51717 non-null  int32  \n",
      " 8   Koramangala 4th Block  51717 non-null  int32  \n",
      " 9   Koramangala 6th Block  51717 non-null  int32  \n",
      " 10  Quick Bites            51717 non-null  int32  \n",
      " 11  Casual Dining          51717 non-null  int32  \n",
      " 12  Cafe                   51717 non-null  int32  \n",
      " 13  Delivery               51717 non-null  int32  \n",
      " 14  Dessert Parlor         51717 non-null  int32  \n",
      "dtypes: float64(2), int32(13)\n",
      "memory usage: 3.4 MB\n"
     ]
    }
   ],
   "source": [
    "zomato_new3.info()"
   ]
  },
  {
   "cell_type": "markdown",
   "metadata": {},
   "source": [
    "# checking outlier treatment"
   ]
  },
  {
   "cell_type": "code",
   "execution_count": 220,
   "metadata": {},
   "outputs": [],
   "source": [
    "zomato_out=zomato_new3[[\"rate\",\"cost\",\"votes\"]]"
   ]
  },
  {
   "cell_type": "code",
   "execution_count": 221,
   "metadata": {},
   "outputs": [
    {
     "data": {
      "image/png": "[encoded data removed]",
      "text/plain": [
       "<Figure size 2000x500 with 3 Axes>"
      ]
     },
     "metadata": {},
     "output_type": "display_data"
    }
   ],
   "source": [
    "plt.figure(figsize=(20,5))\n",
    "plotnumber=1\n",
    "for i in zomato_out:\n",
    "        ax=plt.subplot(1,3,plotnumber)\n",
    "        sns.distplot(zomato_out[i])\n",
    "        plt.xlabel(i,fontsize=20)\n",
    "        plotnumber+=1\n",
    "plt.show()"
   ]
  },
  {
   "cell_type": "code",
   "execution_count": 222,
   "metadata": {},
   "outputs": [
    {
     "data": {
      "image/png": "[encoded data removed]",
      "text/plain": [
       "<Figure size 2500x600 with 3 Axes>"
      ]
     },
     "metadata": {},
     "output_type": "display_data"
    }
   ],
   "source": [
    "plt.figure(figsize=(25,6))\n",
    "plotnumber=1\n",
    "for i in zomato_out:\n",
    "    ax=plt.subplot(1,3,plotnumber)\n",
    "    sns.boxplot(y=zomato_out[i])\n",
    "    plotnumber+=1\n",
    "plt.show()"
   ]
  },
  {
   "cell_type": "code",
   "execution_count": 223,
   "metadata": {},
   "outputs": [],
   "source": [
    "q1=zomato_out[\"cost\"].quantile(.25)"
   ]
  },
  {
   "cell_type": "code",
   "execution_count": 224,
   "metadata": {},
   "outputs": [
    {
     "data": {
      "text/plain": [
       "300.0"
      ]
     },
     "execution_count": 224,
     "metadata": {},
     "output_type": "execute_result"
    }
   ],
   "source": [
    "q1"
   ]
  },
  {
   "cell_type": "code",
   "execution_count": 225,
   "metadata": {},
   "outputs": [],
   "source": [
    "q3=zomato_out[\"cost\"].quantile(.75)"
   ]
  },
  {
   "cell_type": "code",
   "execution_count": 226,
   "metadata": {},
   "outputs": [
    {
     "data": {
      "text/plain": [
       "650.0"
      ]
     },
     "execution_count": 226,
     "metadata": {},
     "output_type": "execute_result"
    }
   ],
   "source": [
    "q3"
   ]
  },
  {
   "cell_type": "code",
   "execution_count": 227,
   "metadata": {},
   "outputs": [],
   "source": [
    "iqr=q3-q1"
   ]
  },
  {
   "cell_type": "code",
   "execution_count": 228,
   "metadata": {},
   "outputs": [
    {
     "data": {
      "text/plain": [
       "350.0"
      ]
     },
     "execution_count": 228,
     "metadata": {},
     "output_type": "execute_result"
    }
   ],
   "source": [
    "iqr"
   ]
  },
  {
   "cell_type": "code",
   "execution_count": 229,
   "metadata": {},
   "outputs": [],
   "source": [
    "uo=q3+(1.5*iqr)"
   ]
  },
  {
   "cell_type": "code",
   "execution_count": 230,
   "metadata": {},
   "outputs": [
    {
     "data": {
      "text/plain": [
       "1175.0"
      ]
     },
     "execution_count": 230,
     "metadata": {},
     "output_type": "execute_result"
    }
   ],
   "source": [
    "uo"
   ]
  },
  {
   "cell_type": "code",
   "execution_count": 231,
   "metadata": {
    "scrolled": true
   },
   "outputs": [
    {
     "data": {
      "text/plain": [
       "4804"
      ]
     },
     "execution_count": 231,
     "metadata": {},
     "output_type": "execute_result"
    }
   ],
   "source": [
    "len(zomato_new3.loc[zomato_new3[\"cost\"]>1175])"
   ]
  },
  {
   "cell_type": "code",
   "execution_count": 232,
   "metadata": {},
   "outputs": [],
   "source": [
    "zomato_final=zomato_new3.loc[zomato_new3[\"cost\"]<=1175]"
   ]
  },
  {
   "cell_type": "code",
   "execution_count": 233,
   "metadata": {},
   "outputs": [
    {
     "data": {
      "text/html": [
       "<div>\n",
       "<style scoped>\n",
       "    .dataframe tbody tr th:only-of-type {\n",
       "        vertical-align: middle;\n",
       "    }\n",
       "\n",
       "    .dataframe tbody tr th {\n",
       "        vertical-align: top;\n",
       "    }\n",
       "\n",
       "    .dataframe thead th {\n",
       "        text-align: right;\n",
       "    }\n",
       "</style>\n",
       "<table border=\"1\" class=\"dataframe\">\n",
       "  <thead>\n",
       "    <tr style=\"text-align: right;\">\n",
       "      <th></th>\n",
       "      <th>cost</th>\n",
       "      <th>rate</th>\n",
       "      <th>online_order</th>\n",
       "      <th>book_table</th>\n",
       "      <th>votes</th>\n",
       "      <th>BTM</th>\n",
       "      <th>Koramangala 7th Block</th>\n",
       "      <th>Koramangala 5th Block</th>\n",
       "      <th>Koramangala 4th Block</th>\n",
       "      <th>Koramangala 6th Block</th>\n",
       "      <th>Quick Bites</th>\n",
       "      <th>Casual Dining</th>\n",
       "      <th>Cafe</th>\n",
       "      <th>Delivery</th>\n",
       "      <th>Dessert Parlor</th>\n",
       "    </tr>\n",
       "  </thead>\n",
       "  <tbody>\n",
       "    <tr>\n",
       "      <th>0</th>\n",
       "      <td>800.00</td>\n",
       "      <td>4.10</td>\n",
       "      <td>1</td>\n",
       "      <td>1</td>\n",
       "      <td>775</td>\n",
       "      <td>0</td>\n",
       "      <td>0</td>\n",
       "      <td>0</td>\n",
       "      <td>0</td>\n",
       "      <td>0</td>\n",
       "      <td>0</td>\n",
       "      <td>1</td>\n",
       "      <td>0</td>\n",
       "      <td>0</td>\n",
       "      <td>0</td>\n",
       "    </tr>\n",
       "    <tr>\n",
       "      <th>1</th>\n",
       "      <td>800.00</td>\n",
       "      <td>4.10</td>\n",
       "      <td>1</td>\n",
       "      <td>0</td>\n",
       "      <td>787</td>\n",
       "      <td>0</td>\n",
       "      <td>0</td>\n",
       "      <td>0</td>\n",
       "      <td>0</td>\n",
       "      <td>0</td>\n",
       "      <td>0</td>\n",
       "      <td>1</td>\n",
       "      <td>0</td>\n",
       "      <td>0</td>\n",
       "      <td>0</td>\n",
       "    </tr>\n",
       "    <tr>\n",
       "      <th>2</th>\n",
       "      <td>800.00</td>\n",
       "      <td>3.80</td>\n",
       "      <td>1</td>\n",
       "      <td>0</td>\n",
       "      <td>918</td>\n",
       "      <td>0</td>\n",
       "      <td>0</td>\n",
       "      <td>0</td>\n",
       "      <td>0</td>\n",
       "      <td>0</td>\n",
       "      <td>0</td>\n",
       "      <td>0</td>\n",
       "      <td>0</td>\n",
       "      <td>0</td>\n",
       "      <td>0</td>\n",
       "    </tr>\n",
       "    <tr>\n",
       "      <th>3</th>\n",
       "      <td>300.00</td>\n",
       "      <td>3.70</td>\n",
       "      <td>0</td>\n",
       "      <td>0</td>\n",
       "      <td>88</td>\n",
       "      <td>0</td>\n",
       "      <td>0</td>\n",
       "      <td>0</td>\n",
       "      <td>0</td>\n",
       "      <td>0</td>\n",
       "      <td>1</td>\n",
       "      <td>0</td>\n",
       "      <td>0</td>\n",
       "      <td>0</td>\n",
       "      <td>0</td>\n",
       "    </tr>\n",
       "    <tr>\n",
       "      <th>4</th>\n",
       "      <td>600.00</td>\n",
       "      <td>3.80</td>\n",
       "      <td>0</td>\n",
       "      <td>0</td>\n",
       "      <td>166</td>\n",
       "      <td>0</td>\n",
       "      <td>0</td>\n",
       "      <td>0</td>\n",
       "      <td>0</td>\n",
       "      <td>0</td>\n",
       "      <td>0</td>\n",
       "      <td>1</td>\n",
       "      <td>0</td>\n",
       "      <td>0</td>\n",
       "      <td>0</td>\n",
       "    </tr>\n",
       "  </tbody>\n",
       "</table>\n",
       "</div>"
      ],
      "text/plain": [
       "    cost  rate  online_order  book_table  votes  BTM  Koramangala 7th Block  \\\n",
       "0 800.00  4.10             1           1    775    0                      0   \n",
       "1 800.00  4.10             1           0    787    0                      0   \n",
       "2 800.00  3.80             1           0    918    0                      0   \n",
       "3 300.00  3.70             0           0     88    0                      0   \n",
       "4 600.00  3.80             0           0    166    0                      0   \n",
       "\n",
       "   Koramangala 5th Block  Koramangala 4th Block  Koramangala 6th Block  \\\n",
       "0                      0                      0                      0   \n",
       "1                      0                      0                      0   \n",
       "2                      0                      0                      0   \n",
       "3                      0                      0                      0   \n",
       "4                      0                      0                      0   \n",
       "\n",
       "   Quick Bites  Casual Dining  Cafe  Delivery  Dessert Parlor  \n",
       "0            0              1     0         0               0  \n",
       "1            0              1     0         0               0  \n",
       "2            0              0     0         0               0  \n",
       "3            1              0     0         0               0  \n",
       "4            0              1     0         0               0  "
      ]
     },
     "execution_count": 233,
     "metadata": {},
     "output_type": "execute_result"
    }
   ],
   "source": [
    "zomato_final.head()"
   ]
  },
  {
   "cell_type": "markdown",
   "metadata": {},
   "source": [
    "# MODEL BUILDING"
   ]
  },
  {
   "cell_type": "code",
   "execution_count": 234,
   "metadata": {},
   "outputs": [
    {
     "data": {
      "text/plain": [
       "(51717, 15)"
      ]
     },
     "execution_count": 234,
     "metadata": {},
     "output_type": "execute_result"
    }
   ],
   "source": [
    "zomato_new3.shape"
   ]
  },
  {
   "cell_type": "code",
   "execution_count": 235,
   "metadata": {},
   "outputs": [],
   "source": [
    "x=zomato_new3.drop([\"cost\"],axis=1)"
   ]
  },
  {
   "cell_type": "code",
   "execution_count": 236,
   "metadata": {},
   "outputs": [
    {
     "data": {
      "text/plain": [
       "(51717, 14)"
      ]
     },
     "execution_count": 236,
     "metadata": {},
     "output_type": "execute_result"
    }
   ],
   "source": [
    "x.shape"
   ]
  },
  {
   "cell_type": "code",
   "execution_count": 237,
   "metadata": {},
   "outputs": [],
   "source": [
    "y=zomato_new3[\"cost\"]"
   ]
  },
  {
   "cell_type": "code",
   "execution_count": null,
   "metadata": {},
   "outputs": [],
   "source": []
  },
  {
   "cell_type": "code",
   "execution_count": 238,
   "metadata": {},
   "outputs": [],
   "source": [
    "from sklearn.model_selection import ShuffleSplit\n",
    "from sklearn.model_selection import GridSearchCV\n",
    "from sklearn.linear_model import LinearRegression\n",
    "from sklearn.tree import DecisionTreeRegressor\n",
    "from sklearn.ensemble import RandomForestRegressor\n",
    "from sklearn.ensemble import AdaBoostRegressor\n",
    "from sklearn.ensemble import GradientBoostingRegressor\n",
    "from sklearn.svm import SVR\n",
    "from sklearn.neighbors import KNeighborsRegressor"
   ]
  },
  {
   "cell_type": "code",
   "execution_count": 239,
   "metadata": {},
   "outputs": [],
   "source": [
    " model = {\n",
    "'linear_regression' : {'model': LinearRegression(),'params': {'positive': [True, False]}},\n",
    "'random_forest': {'model': RandomForestRegressor(),'params': {'n_estimators': [50,100,200,300],'max_samples': [30000,35000]}},\n",
    "'decision_tree': {'model': DecisionTreeRegressor(),'params': {'max_depth' :[3,5,10,15,20,25,30,35,40,45,50] ,'splitter': ['best','random']}}}"
   ]
  },
  {
   "cell_type": "code",
   "execution_count": 240,
   "metadata": {},
   "outputs": [
    {
     "data": {
      "text/plain": [
       "{'linear_regression': {'model': LinearRegression(),\n",
       "  'params': {'positive': [True, False]}},\n",
       " 'random_forest': {'model': RandomForestRegressor(),\n",
       "  'params': {'n_estimators': [50, 100, 200, 300],\n",
       "   'max_samples': [30000, 35000]}},\n",
       " 'decision_tree': {'model': DecisionTreeRegressor(),\n",
       "  'params': {'max_depth': [3, 5, 10, 15, 20, 25, 30, 35, 40, 45, 50],\n",
       "   'splitter': ['best', 'random']}}}"
      ]
     },
     "execution_count": 240,
     "metadata": {},
     "output_type": "execute_result"
    }
   ],
   "source": [
    "model"
   ]
  },
  {
   "cell_type": "code",
   "execution_count": 196,
   "metadata": {},
   "outputs": [],
   "source": [
    "#  model = {\n",
    "# 'linear_regression' : {'model': LinearRegression(),'params': {'positive': [True, False]}},\n",
    "# 'random_forest': {'model': RandomForestRegressor(),'params': {'n_estimators': [50,100,200,300],'max_samples': [30000,35000]}},\n",
    "# 'decision_tree': {'model': DecisionTreeRegressor(),'params': {'max_depth' :[3,5,10,15,20,25,30,35,40,45,50] ,'splitter': ['best','random']}},\n",
    "# \"ada_boosting\" : {\"model\": AdaBoostRegressor(),'params': {'n_estimators': [50,100,200,300]}},\n",
    "# \"gradient_boosting\":{\"model\":GradientBoostingRegressor(),'params': {'n_estimators': [50,100,200,300],\"learning_rate\":[.1,.2,.3,.4,.5],\"max_features\" : ['auto', 'sqrt', 'log2']}},\n",
    "# \"support_vector\":{\"model\":SVR(),'params': {\"kernel\" : ['linear', 'poly', 'rbf', 'sigmoid']}},               \n",
    "# \"knn_regressor\":{\"model\":KNeighborsRegressor(),'params': {\"n_neighbors\":np.linspace(2,30,29)}}                \n",
    "#     }"
   ]
  },
  {
   "cell_type": "code",
   "execution_count": 241,
   "metadata": {},
   "outputs": [
    {
     "data": {
      "text/plain": [
       "dict_items([('linear_regression', {'model': LinearRegression(), 'params': {'positive': [True, False]}}), ('random_forest', {'model': RandomForestRegressor(), 'params': {'n_estimators': [50, 100, 200, 300], 'max_samples': [30000, 35000]}}), ('decision_tree', {'model': DecisionTreeRegressor(), 'params': {'max_depth': [3, 5, 10, 15, 20, 25, 30, 35, 40, 45, 50], 'splitter': ['best', 'random']}})])"
      ]
     },
     "execution_count": 241,
     "metadata": {},
     "output_type": "execute_result"
    }
   ],
   "source": [
    "model.items()"
   ]
  },
  {
   "cell_type": "code",
   "execution_count": 242,
   "metadata": {},
   "outputs": [
    {
     "name": "stdout",
     "output_type": "stream",
     "text": [
      "{'positive': [True, False]}\n",
      "{'n_estimators': [50, 100, 200, 300], 'max_samples': [30000, 35000]}\n",
      "{'max_depth': [3, 5, 10, 15, 20, 25, 30, 35, 40, 45, 50], 'splitter': ['best', 'random']}\n"
     ]
    }
   ],
   "source": [
    "for i,j in model.items():\n",
    "    print(j[\"params\"])"
   ]
  },
  {
   "cell_type": "code",
   "execution_count": 243,
   "metadata": {},
   "outputs": [],
   "source": [
    "def find_best_model_using_gridsearchcv(x,y):\n",
    "   \n",
    "    scores = []\n",
    "    cv = ShuffleSplit(n_splits=2, test_size=0.2, random_state=0)\n",
    "    for model_name, config in model.items():\n",
    "        gs =  GridSearchCV(config['model'], config['params'], cv=cv, return_train_score=False)\n",
    "        gs.fit(x,y)\n",
    "        scores.append({\n",
    "            'model': model_name,\n",
    "            'best_score': gs.best_score_,\n",
    "            'best_params': gs.best_params_\n",
    "        })\n",
    "\n",
    "    return pd.DataFrame(scores,columns=['model','best_score','best_params'])\n",
    "\n"
   ]
  },
  {
   "cell_type": "code",
   "execution_count": 254,
   "metadata": {},
   "outputs": [
    {
     "data": {
      "text/plain": [
       "Index(['rate', 'online_order', 'book_table', 'votes', 'BTM',\n",
       "       'Koramangala 7th Block', 'Koramangala 5th Block',\n",
       "       'Koramangala 4th Block', 'Koramangala 6th Block', 'Quick Bites',\n",
       "       'Casual Dining', 'Cafe', 'Delivery', 'Dessert Parlor'],\n",
       "      dtype='object')"
      ]
     },
     "execution_count": 254,
     "metadata": {},
     "output_type": "execute_result"
    }
   ],
   "source": [
    "x.columns"
   ]
  },
  {
   "cell_type": "code",
   "execution_count": 245,
   "metadata": {},
   "outputs": [
    {
     "data": {
      "text/html": [
       "<div>\n",
       "<style scoped>\n",
       "    .dataframe tbody tr th:only-of-type {\n",
       "        vertical-align: middle;\n",
       "    }\n",
       "\n",
       "    .dataframe tbody tr th {\n",
       "        vertical-align: top;\n",
       "    }\n",
       "\n",
       "    .dataframe thead th {\n",
       "        text-align: right;\n",
       "    }\n",
       "</style>\n",
       "<table border=\"1\" class=\"dataframe\">\n",
       "  <thead>\n",
       "    <tr style=\"text-align: right;\">\n",
       "      <th></th>\n",
       "      <th>model</th>\n",
       "      <th>best_score</th>\n",
       "      <th>best_params</th>\n",
       "    </tr>\n",
       "  </thead>\n",
       "  <tbody>\n",
       "    <tr>\n",
       "      <th>0</th>\n",
       "      <td>linear_regression</td>\n",
       "      <td>0.51</td>\n",
       "      <td>{'positive': False}</td>\n",
       "    </tr>\n",
       "    <tr>\n",
       "      <th>1</th>\n",
       "      <td>random_forest</td>\n",
       "      <td>0.90</td>\n",
       "      <td>{'max_samples': 35000, 'n_estimators': 100}</td>\n",
       "    </tr>\n",
       "    <tr>\n",
       "      <th>2</th>\n",
       "      <td>decision_tree</td>\n",
       "      <td>0.88</td>\n",
       "      <td>{'max_depth': 25, 'splitter': 'best'}</td>\n",
       "    </tr>\n",
       "  </tbody>\n",
       "</table>\n",
       "</div>"
      ],
      "text/plain": [
       "               model  best_score                                  best_params\n",
       "0  linear_regression        0.51                          {'positive': False}\n",
       "1      random_forest        0.90  {'max_samples': 35000, 'n_estimators': 100}\n",
       "2      decision_tree        0.88        {'max_depth': 25, 'splitter': 'best'}"
      ]
     },
     "execution_count": 245,
     "metadata": {},
     "output_type": "execute_result"
    }
   ],
   "source": [
    "find_best_model_using_gridsearchcv(x,y)"
   ]
  },
  {
   "cell_type": "code",
   "execution_count": 257,
   "metadata": {},
   "outputs": [],
   "source": [
    "model=RandomForestRegressor(max_samples=35000,n_estimators=100)"
   ]
  },
  {
   "cell_type": "code",
   "execution_count": 259,
   "metadata": {},
   "outputs": [
    {
     "data": {
      "text/html": [
       "<style>#sk-container-id-4 {color: black;background-color: white;}#sk-container-id-4 pre{padding: 0;}#sk-container-id-4 div.sk-toggleable {background-color: white;}#sk-container-id-4 label.sk-toggleable__label {cursor: pointer;display: block;width: 100%;margin-bottom: 0;padding: 0.3em;box-sizing: border-box;text-align: center;}#sk-container-id-4 label.sk-toggleable__label-arrow:before {content: \"▸\";float: left;margin-right: 0.25em;color: #696969;}#sk-container-id-4 label.sk-toggleable__label-arrow:hover:before {color: black;}#sk-container-id-4 div.sk-estimator:hover label.sk-toggleable__label-arrow:before {color: black;}#sk-container-id-4 div.sk-toggleable__content {max-height: 0;max-width: 0;overflow: hidden;text-align: left;background-color: #f0f8ff;}#sk-container-id-4 div.sk-toggleable__content pre {margin: 0.2em;color: black;border-radius: 0.25em;background-color: #f0f8ff;}#sk-container-id-4 input.sk-toggleable__control:checked~div.sk-toggleable__content {max-height: 200px;max-width: 100%;overflow: auto;}#sk-container-id-4 input.sk-toggleable__control:checked~label.sk-toggleable__label-arrow:before {content: \"▾\";}#sk-container-id-4 div.sk-estimator input.sk-toggleable__control:checked~label.sk-toggleable__label {background-color: #d4ebff;}#sk-container-id-4 div.sk-label input.sk-toggleable__control:checked~label.sk-toggleable__label {background-color: #d4ebff;}#sk-container-id-4 input.sk-hidden--visually {border: 0;clip: rect(1px 1px 1px 1px);clip: rect(1px, 1px, 1px, 1px);height: 1px;margin: -1px;overflow: hidden;padding: 0;position: absolute;width: 1px;}#sk-container-id-4 div.sk-estimator {font-family: monospace;background-color: #f0f8ff;border: 1px dotted black;border-radius: 0.25em;box-sizing: border-box;margin-bottom: 0.5em;}#sk-container-id-4 div.sk-estimator:hover {background-color: #d4ebff;}#sk-container-id-4 div.sk-parallel-item::after {content: \"\";width: 100%;border-bottom: 1px solid gray;flex-grow: 1;}#sk-container-id-4 div.sk-label:hover label.sk-toggleable__label {background-color: #d4ebff;}#sk-container-id-4 div.sk-serial::before {content: \"\";position: absolute;border-left: 1px solid gray;box-sizing: border-box;top: 0;bottom: 0;left: 50%;z-index: 0;}#sk-container-id-4 div.sk-serial {display: flex;flex-direction: column;align-items: center;background-color: white;padding-right: 0.2em;padding-left: 0.2em;position: relative;}#sk-container-id-4 div.sk-item {position: relative;z-index: 1;}#sk-container-id-4 div.sk-parallel {display: flex;align-items: stretch;justify-content: center;background-color: white;position: relative;}#sk-container-id-4 div.sk-item::before, #sk-container-id-4 div.sk-parallel-item::before {content: \"\";position: absolute;border-left: 1px solid gray;box-sizing: border-box;top: 0;bottom: 0;left: 50%;z-index: -1;}#sk-container-id-4 div.sk-parallel-item {display: flex;flex-direction: column;z-index: 1;position: relative;background-color: white;}#sk-container-id-4 div.sk-parallel-item:first-child::after {align-self: flex-end;width: 50%;}#sk-container-id-4 div.sk-parallel-item:last-child::after {align-self: flex-start;width: 50%;}#sk-container-id-4 div.sk-parallel-item:only-child::after {width: 0;}#sk-container-id-4 div.sk-dashed-wrapped {border: 1px dashed gray;margin: 0 0.4em 0.5em 0.4em;box-sizing: border-box;padding-bottom: 0.4em;background-color: white;}#sk-container-id-4 div.sk-label label {font-family: monospace;font-weight: bold;display: inline-block;line-height: 1.2em;}#sk-container-id-4 div.sk-label-container {text-align: center;}#sk-container-id-4 div.sk-container {/* jupyter's `normalize.less` sets `[hidden] { display: none; }` but bootstrap.min.css set `[hidden] { display: none !important; }` so we also need the `!important` here to be able to override the default hidden behavior on the sphinx rendered scikit-learn.org. See: https://github.com/scikit-learn/scikit-learn/issues/21755 */display: inline-block !important;position: relative;}#sk-container-id-4 div.sk-text-repr-fallback {display: none;}</style><div id=\"sk-container-id-4\" class=\"sk-top-container\"><div class=\"sk-text-repr-fallback\"><pre>RandomForestRegressor(max_samples=35000)</pre><b>In a Jupyter environment, please rerun this cell to show the HTML representation or trust the notebook. <br />On GitHub, the HTML representation is unable to render, please try loading this page with nbviewer.org.</b></div><div class=\"sk-container\" hidden><div class=\"sk-item\"><div class=\"sk-estimator sk-toggleable\"><input class=\"sk-toggleable__control sk-hidden--visually\" id=\"sk-estimator-id-16\" type=\"checkbox\" checked><label for=\"sk-estimator-id-16\" class=\"sk-toggleable__label sk-toggleable__label-arrow\">RandomForestRegressor</label><div class=\"sk-toggleable__content\"><pre>RandomForestRegressor(max_samples=35000)</pre></div></div></div></div></div>"
      ],
      "text/plain": [
       "RandomForestRegressor(max_samples=35000)"
      ]
     },
     "execution_count": 259,
     "metadata": {},
     "output_type": "execute_result"
    }
   ],
   "source": [
    "model.fit(x,y)"
   ]
  },
  {
   "cell_type": "code",
   "execution_count": null,
   "metadata": {},
   "outputs": [],
   "source": [
    "pip show scikit-learn"
   ]
  },
  {
   "cell_type": "code",
   "execution_count": 260,
   "metadata": {},
   "outputs": [],
   "source": [
    "import pickle\n",
    "pickle.dump(model,open(\"model.pkl\",\"wb\"))"
   ]
  },
  {
   "cell_type": "code",
   "execution_count": 255,
   "metadata": {},
   "outputs": [],
   "source": [
    "model = pickle.load(open(\"model.pkl\", \"rb\"))"
   ]
  },
  {
   "cell_type": "code",
   "execution_count": 256,
   "metadata": {},
   "outputs": [
    {
     "data": {
      "text/html": [
       "<style>#sk-container-id-3 {color: black;background-color: white;}#sk-container-id-3 pre{padding: 0;}#sk-container-id-3 div.sk-toggleable {background-color: white;}#sk-container-id-3 label.sk-toggleable__label {cursor: pointer;display: block;width: 100%;margin-bottom: 0;padding: 0.3em;box-sizing: border-box;text-align: center;}#sk-container-id-3 label.sk-toggleable__label-arrow:before {content: \"▸\";float: left;margin-right: 0.25em;color: #696969;}#sk-container-id-3 label.sk-toggleable__label-arrow:hover:before {color: black;}#sk-container-id-3 div.sk-estimator:hover label.sk-toggleable__label-arrow:before {color: black;}#sk-container-id-3 div.sk-toggleable__content {max-height: 0;max-width: 0;overflow: hidden;text-align: left;background-color: #f0f8ff;}#sk-container-id-3 div.sk-toggleable__content pre {margin: 0.2em;color: black;border-radius: 0.25em;background-color: #f0f8ff;}#sk-container-id-3 input.sk-toggleable__control:checked~div.sk-toggleable__content {max-height: 200px;max-width: 100%;overflow: auto;}#sk-container-id-3 input.sk-toggleable__control:checked~label.sk-toggleable__label-arrow:before {content: \"▾\";}#sk-container-id-3 div.sk-estimator input.sk-toggleable__control:checked~label.sk-toggleable__label {background-color: #d4ebff;}#sk-container-id-3 div.sk-label input.sk-toggleable__control:checked~label.sk-toggleable__label {background-color: #d4ebff;}#sk-container-id-3 input.sk-hidden--visually {border: 0;clip: rect(1px 1px 1px 1px);clip: rect(1px, 1px, 1px, 1px);height: 1px;margin: -1px;overflow: hidden;padding: 0;position: absolute;width: 1px;}#sk-container-id-3 div.sk-estimator {font-family: monospace;background-color: #f0f8ff;border: 1px dotted black;border-radius: 0.25em;box-sizing: border-box;margin-bottom: 0.5em;}#sk-container-id-3 div.sk-estimator:hover {background-color: #d4ebff;}#sk-container-id-3 div.sk-parallel-item::after {content: \"\";width: 100%;border-bottom: 1px solid gray;flex-grow: 1;}#sk-container-id-3 div.sk-label:hover label.sk-toggleable__label {background-color: #d4ebff;}#sk-container-id-3 div.sk-serial::before {content: \"\";position: absolute;border-left: 1px solid gray;box-sizing: border-box;top: 0;bottom: 0;left: 50%;z-index: 0;}#sk-container-id-3 div.sk-serial {display: flex;flex-direction: column;align-items: center;background-color: white;padding-right: 0.2em;padding-left: 0.2em;position: relative;}#sk-container-id-3 div.sk-item {position: relative;z-index: 1;}#sk-container-id-3 div.sk-parallel {display: flex;align-items: stretch;justify-content: center;background-color: white;position: relative;}#sk-container-id-3 div.sk-item::before, #sk-container-id-3 div.sk-parallel-item::before {content: \"\";position: absolute;border-left: 1px solid gray;box-sizing: border-box;top: 0;bottom: 0;left: 50%;z-index: -1;}#sk-container-id-3 div.sk-parallel-item {display: flex;flex-direction: column;z-index: 1;position: relative;background-color: white;}#sk-container-id-3 div.sk-parallel-item:first-child::after {align-self: flex-end;width: 50%;}#sk-container-id-3 div.sk-parallel-item:last-child::after {align-self: flex-start;width: 50%;}#sk-container-id-3 div.sk-parallel-item:only-child::after {width: 0;}#sk-container-id-3 div.sk-dashed-wrapped {border: 1px dashed gray;margin: 0 0.4em 0.5em 0.4em;box-sizing: border-box;padding-bottom: 0.4em;background-color: white;}#sk-container-id-3 div.sk-label label {font-family: monospace;font-weight: bold;display: inline-block;line-height: 1.2em;}#sk-container-id-3 div.sk-label-container {text-align: center;}#sk-container-id-3 div.sk-container {/* jupyter's `normalize.less` sets `[hidden] { display: none; }` but bootstrap.min.css set `[hidden] { display: none !important; }` so we also need the `!important` here to be able to override the default hidden behavior on the sphinx rendered scikit-learn.org. See: https://github.com/scikit-learn/scikit-learn/issues/21755 */display: inline-block !important;position: relative;}#sk-container-id-3 div.sk-text-repr-fallback {display: none;}</style><div id=\"sk-container-id-3\" class=\"sk-top-container\"><div class=\"sk-text-repr-fallback\"><pre>RandomForestRegressor(max_samples=35000)</pre><b>In a Jupyter environment, please rerun this cell to show the HTML representation or trust the notebook. <br />On GitHub, the HTML representation is unable to render, please try loading this page with nbviewer.org.</b></div><div class=\"sk-container\" hidden><div class=\"sk-item\"><div class=\"sk-estimator sk-toggleable\"><input class=\"sk-toggleable__control sk-hidden--visually\" id=\"sk-estimator-id-15\" type=\"checkbox\" checked><label for=\"sk-estimator-id-15\" class=\"sk-toggleable__label sk-toggleable__label-arrow\">RandomForestRegressor</label><div class=\"sk-toggleable__content\"><pre>RandomForestRegressor(max_samples=35000)</pre></div></div></div></div></div>"
      ],
      "text/plain": [
       "RandomForestRegressor(max_samples=35000)"
      ]
     },
     "execution_count": 256,
     "metadata": {},
     "output_type": "execute_result"
    }
   ],
   "source": [
    "model"
   ]
  },
  {
   "cell_type": "markdown",
   "metadata": {},
   "source": [
    "# ANN IMPLEMENTATION"
   ]
  },
  {
   "cell_type": "code",
   "execution_count": 405,
   "metadata": {},
   "outputs": [],
   "source": [
    "from tensorflow.keras.models import Sequential\n",
    "from tensorflow.keras.layers import Dense\n",
    "from tensorflow.keras.layers import LeakyReLU,PReLU,ELU\n",
    "from tensorflow.keras.layers import Dropout"
   ]
  },
  {
   "cell_type": "code",
   "execution_count": 406,
   "metadata": {},
   "outputs": [],
   "source": [
    "regressor=Sequential()\n",
    "regressor.add(Dense(units=14,activation=\"relu\"))\n",
    "regressor.add(Dense(units=10,activation=\"ELU\"))\n",
    "regressor.add(Dense(units=1,activation=\"linear\"))\n",
    "regressor.compile(optimizer='adam',loss=\"mean_absolute_error\")"
   ]
  },
  {
   "cell_type": "code",
   "execution_count": 407,
   "metadata": {},
   "outputs": [],
   "source": [
    "from sklearn.model_selection import train_test_split"
   ]
  },
  {
   "cell_type": "code",
   "execution_count": 430,
   "metadata": {},
   "outputs": [
    {
     "data": {
      "text/plain": [
       "2514.51"
      ]
     },
     "execution_count": 430,
     "metadata": {},
     "output_type": "execute_result"
    }
   ],
   "source": [
    "x_train.shape[0]*.67/10"
   ]
  },
  {
   "cell_type": "code",
   "execution_count": 408,
   "metadata": {},
   "outputs": [],
   "source": [
    "x_train,x_test,y_train,y_test=train_test_split(x,y,test_size=.20,random_state=0)"
   ]
  },
  {
   "cell_type": "code",
   "execution_count": 426,
   "metadata": {
    "scrolled": true
   },
   "outputs": [
    {
     "name": "stdout",
     "output_type": "stream",
     "text": [
      "Epoch 1/20\n",
      "2515/2515 [==============================] - 2s 970us/step - loss: 120.7538 - val_loss: 118.7363\n",
      "Epoch 2/20\n",
      "2515/2515 [==============================] - 2s 956us/step - loss: 120.8327 - val_loss: 119.1643\n",
      "Epoch 3/20\n",
      "2515/2515 [==============================] - 2s 924us/step - loss: 120.8386 - val_loss: 118.9720\n",
      "Epoch 4/20\n",
      "2515/2515 [==============================] - 2s 935us/step - loss: 120.4189 - val_loss: 119.3488\n",
      "Epoch 5/20\n",
      "2515/2515 [==============================] - 2s 947us/step - loss: 120.2728 - val_loss: 123.4293\n",
      "Epoch 6/20\n",
      "2515/2515 [==============================] - 2s 968us/step - loss: 120.3311 - val_loss: 120.3196\n",
      "Epoch 7/20\n",
      "2515/2515 [==============================] - 2s 939us/step - loss: 120.0055 - val_loss: 118.3604\n",
      "Epoch 8/20\n",
      "2515/2515 [==============================] - 2s 936us/step - loss: 119.9889 - val_loss: 119.8910\n",
      "Epoch 9/20\n",
      "2515/2515 [==============================] - 2s 942us/step - loss: 120.2509 - val_loss: 120.6245\n",
      "Epoch 10/20\n",
      "2515/2515 [==============================] - 2s 940us/step - loss: 120.3933 - val_loss: 119.0742\n",
      "Epoch 11/20\n",
      "2515/2515 [==============================] - 2s 937us/step - loss: 120.0213 - val_loss: 118.9059\n",
      "Epoch 12/20\n",
      "2515/2515 [==============================] - 2s 932us/step - loss: 120.3470 - val_loss: 119.4269\n",
      "Epoch 13/20\n",
      "2515/2515 [==============================] - 2s 926us/step - loss: 120.0828 - val_loss: 118.1697\n",
      "Epoch 14/20\n",
      "2515/2515 [==============================] - 2s 932us/step - loss: 119.8240 - val_loss: 119.0945\n",
      "Epoch 15/20\n",
      "2515/2515 [==============================] - 2s 935us/step - loss: 120.1423 - val_loss: 122.6460\n",
      "Epoch 16/20\n",
      "2515/2515 [==============================] - 2s 968us/step - loss: 119.7333 - val_loss: 119.2625\n",
      "Epoch 17/20\n",
      "2515/2515 [==============================] - 2s 965us/step - loss: 119.7170 - val_loss: 117.8816\n",
      "Epoch 18/20\n",
      "2515/2515 [==============================] - 2s 945us/step - loss: 120.2335 - val_loss: 117.6560\n",
      "Epoch 19/20\n",
      "2515/2515 [==============================] - 2s 944us/step - loss: 119.7789 - val_loss: 121.5678\n",
      "Epoch 20/20\n",
      "2515/2515 [==============================] - 2s 954us/step - loss: 119.7532 - val_loss: 120.4361\n"
     ]
    }
   ],
   "source": [
    "model=regressor.fit(x_train,y_train,validation_split=.33,batch_size=10,epochs=20)"
   ]
  },
  {
   "cell_type": "code",
   "execution_count": 168,
   "metadata": {},
   "outputs": [
    {
     "name": "stdout",
     "output_type": "stream",
     "text": [
      "Model: \"sequential_3\"\n",
      "_________________________________________________________________\n",
      " Layer (type)                Output Shape              Param #   \n",
      "=================================================================\n",
      " dense_9 (Dense)             (None, 14)                210       \n",
      "                                                                 \n",
      " dense_10 (Dense)            (None, 10)                150       \n",
      "                                                                 \n",
      " dense_11 (Dense)            (None, 1)                 11        \n",
      "                                                                 \n",
      "=================================================================\n",
      "Total params: 371\n",
      "Trainable params: 371\n",
      "Non-trainable params: 0\n",
      "_________________________________________________________________\n"
     ]
    }
   ],
   "source": [
    "model.model.summary()"
   ]
  },
  {
   "cell_type": "code",
   "execution_count": 419,
   "metadata": {},
   "outputs": [
    {
     "name": "stdout",
     "output_type": "stream",
     "text": [
      "294/294 [==============================] - 0s 550us/step\n"
     ]
    }
   ],
   "source": [
    "y_pred=regressor.predict(x_test)"
   ]
  },
  {
   "cell_type": "code",
   "execution_count": 423,
   "metadata": {},
   "outputs": [],
   "source": [
    "from sklearn.metrics import r2_score,mean_absolute_error"
   ]
  },
  {
   "cell_type": "code",
   "execution_count": 425,
   "metadata": {},
   "outputs": [
    {
     "data": {
      "text/plain": [
       "122.82504535893929"
      ]
     },
     "execution_count": 425,
     "metadata": {},
     "output_type": "execute_result"
    }
   ],
   "source": [
    "mean_absolute_error(y_test,y_pred)"
   ]
  },
  {
   "cell_type": "code",
   "execution_count": null,
   "metadata": {},
   "outputs": [],
   "source": []
  }
 ],
 "metadata": {
  "kernelspec": {
   "display_name": "Python 3 (ipykernel)",
   "language": "python",
   "name": "python3"
  },
  "language_info": {
   "codemirror_mode": {
    "name": "ipython",
    "version": 3
   },
   "file_extension": ".py",
   "mimetype": "text/x-python",
   "name": "python",
   "nbconvert_exporter": "python",
   "pygments_lexer": "ipython3",
   "version": "3.11.5"
  }
 },
 "nbformat": 4,
 "nbformat_minor": 2
}
